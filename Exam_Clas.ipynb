{
 "cells": [
  {
   "cell_type": "code",
   "execution_count": 1,
   "id": "377016e0",
   "metadata": {},
   "outputs": [],
   "source": [
    "#Importing libraries\n",
    "import pandas as pd\n",
    "import numpy as np\n",
    "import matplotlib.pyplot as plt\n",
    "import warnings\n",
    "warnings.filterwarnings(\"ignore\")"
   ]
  },
  {
   "cell_type": "code",
   "execution_count": 2,
   "id": "7c350b7e",
   "metadata": {},
   "outputs": [],
   "source": [
    "#Reading data file\n",
    "df = pd.read_csv('train_clas.csv')"
   ]
  },
  {
   "cell_type": "code",
   "execution_count": 3,
   "id": "2d912f4b",
   "metadata": {},
   "outputs": [],
   "source": [
    "numerics = ['int16', 'int32', 'int64', 'float16', 'float32', 'float64']\n",
    "\n",
    "df_cont = df.select_dtypes(include=numerics)\n",
    "df_cat = df.select_dtypes(include = 'object')"
   ]
  },
  {
   "cell_type": "code",
   "execution_count": 4,
   "id": "25f45631",
   "metadata": {},
   "outputs": [
    {
     "data": {
      "text/plain": [
       "(891, 12)"
      ]
     },
     "execution_count": 4,
     "metadata": {},
     "output_type": "execute_result"
    }
   ],
   "source": [
    "df.shape"
   ]
  },
  {
   "cell_type": "code",
   "execution_count": 5,
   "id": "40687839",
   "metadata": {},
   "outputs": [
    {
     "data": {
      "text/plain": [
       "PassengerId      0\n",
       "Survived         0\n",
       "Pclass           0\n",
       "Age            177\n",
       "SibSp            0\n",
       "Parch            0\n",
       "Fare             0\n",
       "dtype: int64"
      ]
     },
     "execution_count": 5,
     "metadata": {},
     "output_type": "execute_result"
    }
   ],
   "source": [
    "df_cont.isnull().sum()"
   ]
  },
  {
   "cell_type": "code",
   "execution_count": 6,
   "id": "79e1be70",
   "metadata": {},
   "outputs": [],
   "source": [
    "df_cont['Age'] = df_cont['Age'].fillna(df_cont['Age'].median())"
   ]
  },
  {
   "cell_type": "code",
   "execution_count": 7,
   "id": "25861175",
   "metadata": {},
   "outputs": [],
   "source": [
    "df_cont.drop(['PassengerId'], axis=1, inplace=True)"
   ]
  },
  {
   "cell_type": "code",
   "execution_count": 8,
   "id": "f8afa679",
   "metadata": {},
   "outputs": [
    {
     "data": {
      "text/plain": [
       "Name          0\n",
       "Sex           0\n",
       "Ticket        0\n",
       "Cabin       687\n",
       "Embarked      2\n",
       "dtype: int64"
      ]
     },
     "execution_count": 8,
     "metadata": {},
     "output_type": "execute_result"
    }
   ],
   "source": [
    "df_cat.isnull().sum()"
   ]
  },
  {
   "cell_type": "code",
   "execution_count": 9,
   "id": "4231e82e",
   "metadata": {},
   "outputs": [
    {
     "data": {
      "text/plain": [
       "S    644\n",
       "C    168\n",
       "Q     77\n",
       "Name: Embarked, dtype: int64"
      ]
     },
     "execution_count": 9,
     "metadata": {},
     "output_type": "execute_result"
    }
   ],
   "source": [
    "df_cat['Embarked'].value_counts()"
   ]
  },
  {
   "cell_type": "code",
   "execution_count": 10,
   "id": "20ed5622",
   "metadata": {},
   "outputs": [],
   "source": [
    "df_cat['Embarked'] = df_cat['Embarked'].fillna('S')"
   ]
  },
  {
   "cell_type": "code",
   "execution_count": 11,
   "id": "a6fdcf57",
   "metadata": {},
   "outputs": [],
   "source": [
    "df_cat.drop(['Cabin', 'Name'], axis=1, inplace=True)"
   ]
  },
  {
   "cell_type": "code",
   "execution_count": 12,
   "id": "6430b627",
   "metadata": {},
   "outputs": [],
   "source": [
    "df_response = df['Survived']\n",
    "df_cont = df_cont.loc[:, df_cont.columns != 'Survived']"
   ]
  },
  {
   "cell_type": "code",
   "execution_count": 13,
   "id": "6e9e44cb",
   "metadata": {},
   "outputs": [
    {
     "name": "stdout",
     "output_type": "stream",
     "text": [
      "The Coef are\n",
      "[ 1.02035562e+00 -1.93050483e-01 -7.30333842e-03 -3.42491473e-02\n",
      "  3.00430600e-02  9.33204693e-04]\n"
     ]
    }
   ],
   "source": [
    "#lasso with lasso cv\n",
    "\n",
    "X_lasso = df_cont\n",
    "y = df_response\n",
    "\n",
    "from sklearn.model_selection import KFold\n",
    "from sklearn.linear_model import LassoCV\n",
    "\n",
    "cv = KFold(n_splits=10, shuffle=True, random_state=10)\n",
    "model = LassoCV(cv=cv)\n",
    "lassocv = model.fit(X_lasso, y)\n",
    "\n",
    "B_lasso = lassocv.coef_\n",
    "B_lasso = np.insert(B_lasso, 0, lassocv.intercept_, axis=0)\n",
    "\n",
    "print('The Coef are')\n",
    "print(B_lasso)\n",
    "#print('\\nlambda best is = %f' % lassocv.alpha_)"
   ]
  },
  {
   "cell_type": "code",
   "execution_count": 14,
   "id": "6f36c89b",
   "metadata": {},
   "outputs": [
    {
     "data": {
      "text/html": [
       "<div>\n",
       "<style scoped>\n",
       "    .dataframe tbody tr th:only-of-type {\n",
       "        vertical-align: middle;\n",
       "    }\n",
       "\n",
       "    .dataframe tbody tr th {\n",
       "        vertical-align: top;\n",
       "    }\n",
       "\n",
       "    .dataframe thead th {\n",
       "        text-align: right;\n",
       "    }\n",
       "</style>\n",
       "<table border=\"1\" class=\"dataframe\">\n",
       "  <thead>\n",
       "    <tr style=\"text-align: right;\">\n",
       "      <th></th>\n",
       "      <th>Pclass</th>\n",
       "      <th>Age</th>\n",
       "      <th>SibSp</th>\n",
       "      <th>Parch</th>\n",
       "      <th>Fare</th>\n",
       "    </tr>\n",
       "  </thead>\n",
       "  <tbody>\n",
       "    <tr>\n",
       "      <th>0</th>\n",
       "      <td>-0.579151</td>\n",
       "      <td>-0.160673</td>\n",
       "      <td>-0.034249</td>\n",
       "      <td>0.000000</td>\n",
       "      <td>0.006766</td>\n",
       "    </tr>\n",
       "    <tr>\n",
       "      <th>1</th>\n",
       "      <td>-0.193050</td>\n",
       "      <td>-0.277527</td>\n",
       "      <td>-0.034249</td>\n",
       "      <td>0.000000</td>\n",
       "      <td>0.066522</td>\n",
       "    </tr>\n",
       "    <tr>\n",
       "      <th>2</th>\n",
       "      <td>-0.579151</td>\n",
       "      <td>-0.189887</td>\n",
       "      <td>-0.000000</td>\n",
       "      <td>0.000000</td>\n",
       "      <td>0.007396</td>\n",
       "    </tr>\n",
       "    <tr>\n",
       "      <th>3</th>\n",
       "      <td>-0.193050</td>\n",
       "      <td>-0.255617</td>\n",
       "      <td>-0.034249</td>\n",
       "      <td>0.000000</td>\n",
       "      <td>0.049553</td>\n",
       "    </tr>\n",
       "    <tr>\n",
       "      <th>4</th>\n",
       "      <td>-0.579151</td>\n",
       "      <td>-0.255617</td>\n",
       "      <td>-0.000000</td>\n",
       "      <td>0.000000</td>\n",
       "      <td>0.007512</td>\n",
       "    </tr>\n",
       "    <tr>\n",
       "      <th>...</th>\n",
       "      <td>...</td>\n",
       "      <td>...</td>\n",
       "      <td>...</td>\n",
       "      <td>...</td>\n",
       "      <td>...</td>\n",
       "    </tr>\n",
       "    <tr>\n",
       "      <th>886</th>\n",
       "      <td>-0.386101</td>\n",
       "      <td>-0.197190</td>\n",
       "      <td>-0.000000</td>\n",
       "      <td>0.000000</td>\n",
       "      <td>0.012132</td>\n",
       "    </tr>\n",
       "    <tr>\n",
       "      <th>887</th>\n",
       "      <td>-0.193050</td>\n",
       "      <td>-0.138763</td>\n",
       "      <td>-0.000000</td>\n",
       "      <td>0.000000</td>\n",
       "      <td>0.027996</td>\n",
       "    </tr>\n",
       "    <tr>\n",
       "      <th>888</th>\n",
       "      <td>-0.579151</td>\n",
       "      <td>-0.204493</td>\n",
       "      <td>-0.034249</td>\n",
       "      <td>0.060086</td>\n",
       "      <td>0.021884</td>\n",
       "    </tr>\n",
       "    <tr>\n",
       "      <th>889</th>\n",
       "      <td>-0.193050</td>\n",
       "      <td>-0.189887</td>\n",
       "      <td>-0.000000</td>\n",
       "      <td>0.000000</td>\n",
       "      <td>0.027996</td>\n",
       "    </tr>\n",
       "    <tr>\n",
       "      <th>890</th>\n",
       "      <td>-0.579151</td>\n",
       "      <td>-0.233707</td>\n",
       "      <td>-0.000000</td>\n",
       "      <td>0.000000</td>\n",
       "      <td>0.007232</td>\n",
       "    </tr>\n",
       "  </tbody>\n",
       "</table>\n",
       "<p>891 rows × 5 columns</p>\n",
       "</div>"
      ],
      "text/plain": [
       "       Pclass       Age     SibSp     Parch      Fare\n",
       "0   -0.579151 -0.160673 -0.034249  0.000000  0.006766\n",
       "1   -0.193050 -0.277527 -0.034249  0.000000  0.066522\n",
       "2   -0.579151 -0.189887 -0.000000  0.000000  0.007396\n",
       "3   -0.193050 -0.255617 -0.034249  0.000000  0.049553\n",
       "4   -0.579151 -0.255617 -0.000000  0.000000  0.007512\n",
       "..        ...       ...       ...       ...       ...\n",
       "886 -0.386101 -0.197190 -0.000000  0.000000  0.012132\n",
       "887 -0.193050 -0.138763 -0.000000  0.000000  0.027996\n",
       "888 -0.579151 -0.204493 -0.034249  0.060086  0.021884\n",
       "889 -0.193050 -0.189887 -0.000000  0.000000  0.027996\n",
       "890 -0.579151 -0.233707 -0.000000  0.000000  0.007232\n",
       "\n",
       "[891 rows x 5 columns]"
      ]
     },
     "execution_count": 14,
     "metadata": {},
     "output_type": "execute_result"
    }
   ],
   "source": [
    "df_cont2 =  df_cont * lassocv.coef_\n",
    "df_cont2 = df_cont2.loc[:, (df_cont2 != 0).any(axis=0)]\n",
    "df_cont2"
   ]
  },
  {
   "cell_type": "code",
   "execution_count": 15,
   "id": "d51ba18f",
   "metadata": {},
   "outputs": [],
   "source": [
    "def outliers (dataframe):\n",
    "    \n",
    "    for column in dataframe:\n",
    "        Q1 = dataframe[column].quantile(0.25)\n",
    "        Q3 = dataframe[column].quantile(0.75)\n",
    "        IQR = Q3 - Q1\n",
    "        Lower_Bound = Q1 - 1.5*IQR\n",
    "        Upper_Bound = Q3 + 1.5*IQR\n",
    "        \n",
    "        for i in np.linspace(0,len(dataframe[column])-1, len(dataframe[column])):\n",
    "            if dataframe[column][i] < Lower_Bound:\n",
    "                dataframe[column][i] = Q1\n",
    "            elif dataframe[column][i] > Upper_Bound:\n",
    "                dataframe[column][i] = Q3\n",
    "                \n",
    "    return dataframe"
   ]
  },
  {
   "cell_type": "code",
   "execution_count": 16,
   "id": "8df5badc",
   "metadata": {},
   "outputs": [],
   "source": [
    "df_cont2 = outliers(df_cont2)"
   ]
  },
  {
   "cell_type": "code",
   "execution_count": 17,
   "id": "57c6d03d",
   "metadata": {},
   "outputs": [],
   "source": [
    "#one hot encoding for categorical\n",
    "df_cat2 = pd.get_dummies(df_cat, dummy_na=True)"
   ]
  },
  {
   "cell_type": "code",
   "execution_count": 18,
   "id": "e4e24288",
   "metadata": {},
   "outputs": [],
   "source": [
    "df_final = pd.concat([df_cont2, df_cat2, df_response], axis = 1)"
   ]
  },
  {
   "cell_type": "code",
   "execution_count": 19,
   "id": "b5bd4884",
   "metadata": {},
   "outputs": [
    {
     "data": {
      "text/html": [
       "<div>\n",
       "<style scoped>\n",
       "    .dataframe tbody tr th:only-of-type {\n",
       "        vertical-align: middle;\n",
       "    }\n",
       "\n",
       "    .dataframe tbody tr th {\n",
       "        vertical-align: top;\n",
       "    }\n",
       "\n",
       "    .dataframe thead th {\n",
       "        text-align: right;\n",
       "    }\n",
       "</style>\n",
       "<table border=\"1\" class=\"dataframe\">\n",
       "  <thead>\n",
       "    <tr style=\"text-align: right;\">\n",
       "      <th></th>\n",
       "      <th>Pclass</th>\n",
       "      <th>Age</th>\n",
       "      <th>SibSp</th>\n",
       "      <th>Parch</th>\n",
       "      <th>Fare</th>\n",
       "      <th>Sex_female</th>\n",
       "      <th>Sex_male</th>\n",
       "      <th>Sex_nan</th>\n",
       "      <th>Ticket_110152</th>\n",
       "      <th>Ticket_110413</th>\n",
       "      <th>...</th>\n",
       "      <th>Ticket_W./C. 6609</th>\n",
       "      <th>Ticket_W.E.P. 5734</th>\n",
       "      <th>Ticket_W/C 14208</th>\n",
       "      <th>Ticket_WE/P 5735</th>\n",
       "      <th>Ticket_nan</th>\n",
       "      <th>Embarked_C</th>\n",
       "      <th>Embarked_Q</th>\n",
       "      <th>Embarked_S</th>\n",
       "      <th>Embarked_nan</th>\n",
       "      <th>Survived</th>\n",
       "    </tr>\n",
       "  </thead>\n",
       "  <tbody>\n",
       "    <tr>\n",
       "      <th>0</th>\n",
       "      <td>-0.579151</td>\n",
       "      <td>-0.160673</td>\n",
       "      <td>-0.034249</td>\n",
       "      <td>0.0</td>\n",
       "      <td>0.006766</td>\n",
       "      <td>0</td>\n",
       "      <td>1</td>\n",
       "      <td>0</td>\n",
       "      <td>0</td>\n",
       "      <td>0</td>\n",
       "      <td>...</td>\n",
       "      <td>0</td>\n",
       "      <td>0</td>\n",
       "      <td>0</td>\n",
       "      <td>0</td>\n",
       "      <td>0</td>\n",
       "      <td>0</td>\n",
       "      <td>0</td>\n",
       "      <td>1</td>\n",
       "      <td>0</td>\n",
       "      <td>0</td>\n",
       "    </tr>\n",
       "    <tr>\n",
       "      <th>1</th>\n",
       "      <td>-0.193050</td>\n",
       "      <td>-0.277527</td>\n",
       "      <td>-0.034249</td>\n",
       "      <td>0.0</td>\n",
       "      <td>0.028929</td>\n",
       "      <td>1</td>\n",
       "      <td>0</td>\n",
       "      <td>0</td>\n",
       "      <td>0</td>\n",
       "      <td>0</td>\n",
       "      <td>...</td>\n",
       "      <td>0</td>\n",
       "      <td>0</td>\n",
       "      <td>0</td>\n",
       "      <td>0</td>\n",
       "      <td>0</td>\n",
       "      <td>1</td>\n",
       "      <td>0</td>\n",
       "      <td>0</td>\n",
       "      <td>0</td>\n",
       "      <td>1</td>\n",
       "    </tr>\n",
       "    <tr>\n",
       "      <th>2</th>\n",
       "      <td>-0.579151</td>\n",
       "      <td>-0.189887</td>\n",
       "      <td>-0.000000</td>\n",
       "      <td>0.0</td>\n",
       "      <td>0.007396</td>\n",
       "      <td>1</td>\n",
       "      <td>0</td>\n",
       "      <td>0</td>\n",
       "      <td>0</td>\n",
       "      <td>0</td>\n",
       "      <td>...</td>\n",
       "      <td>0</td>\n",
       "      <td>0</td>\n",
       "      <td>0</td>\n",
       "      <td>0</td>\n",
       "      <td>0</td>\n",
       "      <td>0</td>\n",
       "      <td>0</td>\n",
       "      <td>1</td>\n",
       "      <td>0</td>\n",
       "      <td>1</td>\n",
       "    </tr>\n",
       "    <tr>\n",
       "      <th>3</th>\n",
       "      <td>-0.193050</td>\n",
       "      <td>-0.255617</td>\n",
       "      <td>-0.034249</td>\n",
       "      <td>0.0</td>\n",
       "      <td>0.049553</td>\n",
       "      <td>1</td>\n",
       "      <td>0</td>\n",
       "      <td>0</td>\n",
       "      <td>0</td>\n",
       "      <td>0</td>\n",
       "      <td>...</td>\n",
       "      <td>0</td>\n",
       "      <td>0</td>\n",
       "      <td>0</td>\n",
       "      <td>0</td>\n",
       "      <td>0</td>\n",
       "      <td>0</td>\n",
       "      <td>0</td>\n",
       "      <td>1</td>\n",
       "      <td>0</td>\n",
       "      <td>1</td>\n",
       "    </tr>\n",
       "    <tr>\n",
       "      <th>4</th>\n",
       "      <td>-0.579151</td>\n",
       "      <td>-0.255617</td>\n",
       "      <td>-0.000000</td>\n",
       "      <td>0.0</td>\n",
       "      <td>0.007512</td>\n",
       "      <td>0</td>\n",
       "      <td>1</td>\n",
       "      <td>0</td>\n",
       "      <td>0</td>\n",
       "      <td>0</td>\n",
       "      <td>...</td>\n",
       "      <td>0</td>\n",
       "      <td>0</td>\n",
       "      <td>0</td>\n",
       "      <td>0</td>\n",
       "      <td>0</td>\n",
       "      <td>0</td>\n",
       "      <td>0</td>\n",
       "      <td>1</td>\n",
       "      <td>0</td>\n",
       "      <td>0</td>\n",
       "    </tr>\n",
       "    <tr>\n",
       "      <th>...</th>\n",
       "      <td>...</td>\n",
       "      <td>...</td>\n",
       "      <td>...</td>\n",
       "      <td>...</td>\n",
       "      <td>...</td>\n",
       "      <td>...</td>\n",
       "      <td>...</td>\n",
       "      <td>...</td>\n",
       "      <td>...</td>\n",
       "      <td>...</td>\n",
       "      <td>...</td>\n",
       "      <td>...</td>\n",
       "      <td>...</td>\n",
       "      <td>...</td>\n",
       "      <td>...</td>\n",
       "      <td>...</td>\n",
       "      <td>...</td>\n",
       "      <td>...</td>\n",
       "      <td>...</td>\n",
       "      <td>...</td>\n",
       "      <td>...</td>\n",
       "    </tr>\n",
       "    <tr>\n",
       "      <th>886</th>\n",
       "      <td>-0.386101</td>\n",
       "      <td>-0.197190</td>\n",
       "      <td>-0.000000</td>\n",
       "      <td>0.0</td>\n",
       "      <td>0.012132</td>\n",
       "      <td>0</td>\n",
       "      <td>1</td>\n",
       "      <td>0</td>\n",
       "      <td>0</td>\n",
       "      <td>0</td>\n",
       "      <td>...</td>\n",
       "      <td>0</td>\n",
       "      <td>0</td>\n",
       "      <td>0</td>\n",
       "      <td>0</td>\n",
       "      <td>0</td>\n",
       "      <td>0</td>\n",
       "      <td>0</td>\n",
       "      <td>1</td>\n",
       "      <td>0</td>\n",
       "      <td>0</td>\n",
       "    </tr>\n",
       "    <tr>\n",
       "      <th>887</th>\n",
       "      <td>-0.193050</td>\n",
       "      <td>-0.138763</td>\n",
       "      <td>-0.000000</td>\n",
       "      <td>0.0</td>\n",
       "      <td>0.027996</td>\n",
       "      <td>1</td>\n",
       "      <td>0</td>\n",
       "      <td>0</td>\n",
       "      <td>0</td>\n",
       "      <td>0</td>\n",
       "      <td>...</td>\n",
       "      <td>0</td>\n",
       "      <td>0</td>\n",
       "      <td>0</td>\n",
       "      <td>0</td>\n",
       "      <td>0</td>\n",
       "      <td>0</td>\n",
       "      <td>0</td>\n",
       "      <td>1</td>\n",
       "      <td>0</td>\n",
       "      <td>1</td>\n",
       "    </tr>\n",
       "    <tr>\n",
       "      <th>888</th>\n",
       "      <td>-0.579151</td>\n",
       "      <td>-0.204493</td>\n",
       "      <td>-0.034249</td>\n",
       "      <td>0.0</td>\n",
       "      <td>0.021884</td>\n",
       "      <td>1</td>\n",
       "      <td>0</td>\n",
       "      <td>0</td>\n",
       "      <td>0</td>\n",
       "      <td>0</td>\n",
       "      <td>...</td>\n",
       "      <td>0</td>\n",
       "      <td>0</td>\n",
       "      <td>0</td>\n",
       "      <td>0</td>\n",
       "      <td>0</td>\n",
       "      <td>0</td>\n",
       "      <td>0</td>\n",
       "      <td>1</td>\n",
       "      <td>0</td>\n",
       "      <td>0</td>\n",
       "    </tr>\n",
       "    <tr>\n",
       "      <th>889</th>\n",
       "      <td>-0.193050</td>\n",
       "      <td>-0.189887</td>\n",
       "      <td>-0.000000</td>\n",
       "      <td>0.0</td>\n",
       "      <td>0.027996</td>\n",
       "      <td>0</td>\n",
       "      <td>1</td>\n",
       "      <td>0</td>\n",
       "      <td>0</td>\n",
       "      <td>0</td>\n",
       "      <td>...</td>\n",
       "      <td>0</td>\n",
       "      <td>0</td>\n",
       "      <td>0</td>\n",
       "      <td>0</td>\n",
       "      <td>0</td>\n",
       "      <td>1</td>\n",
       "      <td>0</td>\n",
       "      <td>0</td>\n",
       "      <td>0</td>\n",
       "      <td>1</td>\n",
       "    </tr>\n",
       "    <tr>\n",
       "      <th>890</th>\n",
       "      <td>-0.579151</td>\n",
       "      <td>-0.233707</td>\n",
       "      <td>-0.000000</td>\n",
       "      <td>0.0</td>\n",
       "      <td>0.007232</td>\n",
       "      <td>0</td>\n",
       "      <td>1</td>\n",
       "      <td>0</td>\n",
       "      <td>0</td>\n",
       "      <td>0</td>\n",
       "      <td>...</td>\n",
       "      <td>0</td>\n",
       "      <td>0</td>\n",
       "      <td>0</td>\n",
       "      <td>0</td>\n",
       "      <td>0</td>\n",
       "      <td>0</td>\n",
       "      <td>1</td>\n",
       "      <td>0</td>\n",
       "      <td>0</td>\n",
       "      <td>0</td>\n",
       "    </tr>\n",
       "  </tbody>\n",
       "</table>\n",
       "<p>891 rows × 695 columns</p>\n",
       "</div>"
      ],
      "text/plain": [
       "       Pclass       Age     SibSp  Parch      Fare  Sex_female  Sex_male  \\\n",
       "0   -0.579151 -0.160673 -0.034249    0.0  0.006766           0         1   \n",
       "1   -0.193050 -0.277527 -0.034249    0.0  0.028929           1         0   \n",
       "2   -0.579151 -0.189887 -0.000000    0.0  0.007396           1         0   \n",
       "3   -0.193050 -0.255617 -0.034249    0.0  0.049553           1         0   \n",
       "4   -0.579151 -0.255617 -0.000000    0.0  0.007512           0         1   \n",
       "..        ...       ...       ...    ...       ...         ...       ...   \n",
       "886 -0.386101 -0.197190 -0.000000    0.0  0.012132           0         1   \n",
       "887 -0.193050 -0.138763 -0.000000    0.0  0.027996           1         0   \n",
       "888 -0.579151 -0.204493 -0.034249    0.0  0.021884           1         0   \n",
       "889 -0.193050 -0.189887 -0.000000    0.0  0.027996           0         1   \n",
       "890 -0.579151 -0.233707 -0.000000    0.0  0.007232           0         1   \n",
       "\n",
       "     Sex_nan  Ticket_110152  Ticket_110413  ...  Ticket_W./C. 6609  \\\n",
       "0          0              0              0  ...                  0   \n",
       "1          0              0              0  ...                  0   \n",
       "2          0              0              0  ...                  0   \n",
       "3          0              0              0  ...                  0   \n",
       "4          0              0              0  ...                  0   \n",
       "..       ...            ...            ...  ...                ...   \n",
       "886        0              0              0  ...                  0   \n",
       "887        0              0              0  ...                  0   \n",
       "888        0              0              0  ...                  0   \n",
       "889        0              0              0  ...                  0   \n",
       "890        0              0              0  ...                  0   \n",
       "\n",
       "     Ticket_W.E.P. 5734  Ticket_W/C 14208  Ticket_WE/P 5735  Ticket_nan  \\\n",
       "0                     0                 0                 0           0   \n",
       "1                     0                 0                 0           0   \n",
       "2                     0                 0                 0           0   \n",
       "3                     0                 0                 0           0   \n",
       "4                     0                 0                 0           0   \n",
       "..                  ...               ...               ...         ...   \n",
       "886                   0                 0                 0           0   \n",
       "887                   0                 0                 0           0   \n",
       "888                   0                 0                 0           0   \n",
       "889                   0                 0                 0           0   \n",
       "890                   0                 0                 0           0   \n",
       "\n",
       "     Embarked_C  Embarked_Q  Embarked_S  Embarked_nan  Survived  \n",
       "0             0           0           1             0         0  \n",
       "1             1           0           0             0         1  \n",
       "2             0           0           1             0         1  \n",
       "3             0           0           1             0         1  \n",
       "4             0           0           1             0         0  \n",
       "..          ...         ...         ...           ...       ...  \n",
       "886           0           0           1             0         0  \n",
       "887           0           0           1             0         1  \n",
       "888           0           0           1             0         0  \n",
       "889           1           0           0             0         1  \n",
       "890           0           1           0             0         0  \n",
       "\n",
       "[891 rows x 695 columns]"
      ]
     },
     "execution_count": 19,
     "metadata": {},
     "output_type": "execute_result"
    }
   ],
   "source": [
    "df_final"
   ]
  },
  {
   "cell_type": "code",
   "execution_count": 20,
   "id": "022705e8",
   "metadata": {},
   "outputs": [
    {
     "data": {
      "text/html": [
       "<div>\n",
       "<style scoped>\n",
       "    .dataframe tbody tr th:only-of-type {\n",
       "        vertical-align: middle;\n",
       "    }\n",
       "\n",
       "    .dataframe tbody tr th {\n",
       "        vertical-align: top;\n",
       "    }\n",
       "\n",
       "    .dataframe thead th {\n",
       "        text-align: right;\n",
       "    }\n",
       "</style>\n",
       "<table border=\"1\" class=\"dataframe\">\n",
       "  <thead>\n",
       "    <tr style=\"text-align: right;\">\n",
       "      <th></th>\n",
       "      <th>0</th>\n",
       "      <th>1</th>\n",
       "      <th>2</th>\n",
       "      <th>3</th>\n",
       "      <th>4</th>\n",
       "      <th>5</th>\n",
       "      <th>6</th>\n",
       "      <th>7</th>\n",
       "      <th>8</th>\n",
       "      <th>9</th>\n",
       "      <th>...</th>\n",
       "      <th>684</th>\n",
       "      <th>685</th>\n",
       "      <th>686</th>\n",
       "      <th>687</th>\n",
       "      <th>688</th>\n",
       "      <th>689</th>\n",
       "      <th>690</th>\n",
       "      <th>691</th>\n",
       "      <th>692</th>\n",
       "      <th>693</th>\n",
       "    </tr>\n",
       "  </thead>\n",
       "  <tbody>\n",
       "    <tr>\n",
       "      <th>0</th>\n",
       "      <td>-0.580832</td>\n",
       "      <td>-0.188935</td>\n",
       "      <td>-0.010679</td>\n",
       "      <td>-0.116232</td>\n",
       "      <td>0.008656</td>\n",
       "      <td>-0.009090</td>\n",
       "      <td>-0.019332</td>\n",
       "      <td>-0.002889</td>\n",
       "      <td>-0.002352</td>\n",
       "      <td>-0.010705</td>\n",
       "      <td>...</td>\n",
       "      <td>3.999504e-10</td>\n",
       "      <td>2.848324e-16</td>\n",
       "      <td>5.920432e-17</td>\n",
       "      <td>2.408456e-17</td>\n",
       "      <td>4.793126e-18</td>\n",
       "      <td>-1.151978e-19</td>\n",
       "      <td>-1.282902e-19</td>\n",
       "      <td>1.970825e-19</td>\n",
       "      <td>-1.397036e-19</td>\n",
       "      <td>1.327540e-20</td>\n",
       "    </tr>\n",
       "    <tr>\n",
       "      <th>1</th>\n",
       "      <td>1.176686</td>\n",
       "      <td>0.753156</td>\n",
       "      <td>-0.358226</td>\n",
       "      <td>0.136653</td>\n",
       "      <td>-0.012340</td>\n",
       "      <td>0.010168</td>\n",
       "      <td>0.008303</td>\n",
       "      <td>-0.005136</td>\n",
       "      <td>0.001321</td>\n",
       "      <td>-0.008173</td>\n",
       "      <td>...</td>\n",
       "      <td>4.407246e-11</td>\n",
       "      <td>2.848324e-16</td>\n",
       "      <td>5.920432e-17</td>\n",
       "      <td>2.408456e-17</td>\n",
       "      <td>4.793126e-18</td>\n",
       "      <td>-1.151978e-19</td>\n",
       "      <td>-1.282902e-19</td>\n",
       "      <td>1.970825e-19</td>\n",
       "      <td>-1.397036e-19</td>\n",
       "      <td>1.327540e-20</td>\n",
       "    </tr>\n",
       "    <tr>\n",
       "      <th>2</th>\n",
       "      <td>0.774953</td>\n",
       "      <td>-0.591587</td>\n",
       "      <td>-0.038958</td>\n",
       "      <td>-0.155266</td>\n",
       "      <td>-0.009164</td>\n",
       "      <td>0.009816</td>\n",
       "      <td>-0.026717</td>\n",
       "      <td>-0.012116</td>\n",
       "      <td>0.001005</td>\n",
       "      <td>-0.036095</td>\n",
       "      <td>...</td>\n",
       "      <td>2.983274e-10</td>\n",
       "      <td>2.848324e-16</td>\n",
       "      <td>5.920432e-17</td>\n",
       "      <td>2.408456e-17</td>\n",
       "      <td>4.793126e-18</td>\n",
       "      <td>-1.151978e-19</td>\n",
       "      <td>-1.282902e-19</td>\n",
       "      <td>1.970825e-19</td>\n",
       "      <td>-1.397036e-19</td>\n",
       "      <td>1.327540e-20</td>\n",
       "    </tr>\n",
       "    <tr>\n",
       "      <th>3</th>\n",
       "      <td>0.788204</td>\n",
       "      <td>-0.581595</td>\n",
       "      <td>-0.107574</td>\n",
       "      <td>0.244563</td>\n",
       "      <td>-0.006063</td>\n",
       "      <td>0.007709</td>\n",
       "      <td>0.002228</td>\n",
       "      <td>0.000208</td>\n",
       "      <td>0.002261</td>\n",
       "      <td>-0.002722</td>\n",
       "      <td>...</td>\n",
       "      <td>2.505321e-08</td>\n",
       "      <td>3.545948e-15</td>\n",
       "      <td>-1.421295e-15</td>\n",
       "      <td>-1.352184e-15</td>\n",
       "      <td>-1.525480e-16</td>\n",
       "      <td>5.791804e-18</td>\n",
       "      <td>1.506590e-17</td>\n",
       "      <td>-1.006654e-17</td>\n",
       "      <td>-1.479364e-17</td>\n",
       "      <td>2.905970e-18</td>\n",
       "    </tr>\n",
       "    <tr>\n",
       "      <th>4</th>\n",
       "      <td>-0.581564</td>\n",
       "      <td>-0.188555</td>\n",
       "      <td>-0.012106</td>\n",
       "      <td>-0.098192</td>\n",
       "      <td>-0.009477</td>\n",
       "      <td>-0.000798</td>\n",
       "      <td>-0.015891</td>\n",
       "      <td>-0.026630</td>\n",
       "      <td>-0.006706</td>\n",
       "      <td>-0.049572</td>\n",
       "      <td>...</td>\n",
       "      <td>2.795621e-10</td>\n",
       "      <td>2.848324e-16</td>\n",
       "      <td>5.920432e-17</td>\n",
       "      <td>2.408456e-17</td>\n",
       "      <td>4.793126e-18</td>\n",
       "      <td>-1.151978e-19</td>\n",
       "      <td>-1.282902e-19</td>\n",
       "      <td>1.970825e-19</td>\n",
       "      <td>-1.397036e-19</td>\n",
       "      <td>1.327540e-20</td>\n",
       "    </tr>\n",
       "  </tbody>\n",
       "</table>\n",
       "<p>5 rows × 694 columns</p>\n",
       "</div>"
      ],
      "text/plain": [
       "        0         1         2         3         4         5         6    \\\n",
       "0 -0.580832 -0.188935 -0.010679 -0.116232  0.008656 -0.009090 -0.019332   \n",
       "1  1.176686  0.753156 -0.358226  0.136653 -0.012340  0.010168  0.008303   \n",
       "2  0.774953 -0.591587 -0.038958 -0.155266 -0.009164  0.009816 -0.026717   \n",
       "3  0.788204 -0.581595 -0.107574  0.244563 -0.006063  0.007709  0.002228   \n",
       "4 -0.581564 -0.188555 -0.012106 -0.098192 -0.009477 -0.000798 -0.015891   \n",
       "\n",
       "        7         8         9    ...           684           685  \\\n",
       "0 -0.002889 -0.002352 -0.010705  ...  3.999504e-10  2.848324e-16   \n",
       "1 -0.005136  0.001321 -0.008173  ...  4.407246e-11  2.848324e-16   \n",
       "2 -0.012116  0.001005 -0.036095  ...  2.983274e-10  2.848324e-16   \n",
       "3  0.000208  0.002261 -0.002722  ...  2.505321e-08  3.545948e-15   \n",
       "4 -0.026630 -0.006706 -0.049572  ...  2.795621e-10  2.848324e-16   \n",
       "\n",
       "            686           687           688           689           690  \\\n",
       "0  5.920432e-17  2.408456e-17  4.793126e-18 -1.151978e-19 -1.282902e-19   \n",
       "1  5.920432e-17  2.408456e-17  4.793126e-18 -1.151978e-19 -1.282902e-19   \n",
       "2  5.920432e-17  2.408456e-17  4.793126e-18 -1.151978e-19 -1.282902e-19   \n",
       "3 -1.421295e-15 -1.352184e-15 -1.525480e-16  5.791804e-18  1.506590e-17   \n",
       "4  5.920432e-17  2.408456e-17  4.793126e-18 -1.151978e-19 -1.282902e-19   \n",
       "\n",
       "            691           692           693  \n",
       "0  1.970825e-19 -1.397036e-19  1.327540e-20  \n",
       "1  1.970825e-19 -1.397036e-19  1.327540e-20  \n",
       "2  1.970825e-19 -1.397036e-19  1.327540e-20  \n",
       "3 -1.006654e-17 -1.479364e-17  2.905970e-18  \n",
       "4  1.970825e-19 -1.397036e-19  1.327540e-20  \n",
       "\n",
       "[5 rows x 694 columns]"
      ]
     },
     "execution_count": 20,
     "metadata": {},
     "output_type": "execute_result"
    }
   ],
   "source": [
    "from sklearn.decomposition import PCA\n",
    "\n",
    "#from sklearn.pipeline import make_pipeline\n",
    "#from sklearn.preprocessing import StandardScaler\n",
    "\n",
    "pca = PCA()\n",
    "\n",
    "x = df_final.loc[:, df_final.columns != 'Survived']\n",
    "y = df_final['Survived']\n",
    "\n",
    "x_pca = pca.fit_transform(x)\n",
    "x_pca = pd.DataFrame(x_pca)\n",
    "x_pca.head()"
   ]
  },
  {
   "cell_type": "code",
   "execution_count": 21,
   "id": "7ba06a95",
   "metadata": {},
   "outputs": [
    {
     "data": {
      "text/plain": [
       "0.8357175108615409"
      ]
     },
     "execution_count": 21,
     "metadata": {},
     "output_type": "execute_result"
    }
   ],
   "source": [
    "explained_variance = pca.explained_variance_ratio_\n",
    "np.sum(explained_variance[:400])"
   ]
  },
  {
   "cell_type": "code",
   "execution_count": 22,
   "id": "fc84133b",
   "metadata": {},
   "outputs": [],
   "source": [
    "y = df_final['Survived']\n",
    "x = x_pca.iloc[:, 0:400]\n",
    "\n",
    "df_final2 = pd.concat([x, y], axis = 1)"
   ]
  },
  {
   "cell_type": "markdown",
   "id": "1688e576",
   "metadata": {},
   "source": [
    "## Classification"
   ]
  },
  {
   "cell_type": "code",
   "execution_count": 23,
   "id": "096642cd",
   "metadata": {},
   "outputs": [],
   "source": [
    "# 5-Fold Cross Validation\n",
    "def cross_validation (df, func):\n",
    "    from sklearn.model_selection import KFold\n",
    "    kf = KFold(n_splits = 5, shuffle = True, random_state = 10)\n",
    "    kf_accuracy = []\n",
    "    \n",
    "    for train, test in kf.split(df):\n",
    "        X_train = df.iloc[train].loc[:, df.columns != 'Survived']\n",
    "        X_train = X_train.squeeze()\n",
    "        X_test = df.iloc[test].loc[:, df.columns != 'Survived']\n",
    "        y_train = df.iloc[train].loc[:,'Survived']\n",
    "        y_test = df.iloc[test].loc[:,'Survived']\n",
    "        \n",
    "        reg = func.fit(X_train, y_train)\n",
    "        y_hat = reg.predict(X_test)\n",
    "        \n",
    "        from sklearn.metrics import accuracy_score\n",
    "        kf_accuracy.append(accuracy_score(y_test, y_hat))\n",
    "                \n",
    "    kf_ACCURACY = (1/5) * np.sum(kf_accuracy)\n",
    "        \n",
    "    return (kf_ACCURACY)"
   ]
  },
  {
   "cell_type": "code",
   "execution_count": 24,
   "id": "7fc3dcb5",
   "metadata": {},
   "outputs": [],
   "source": [
    "def conf_mat(y, y_hat):\n",
    "    from sklearn.metrics import confusion_matrix\n",
    "    cm = confusion_matrix(y, y_hat)\n",
    "    \n",
    "    return(cm)"
   ]
  },
  {
   "cell_type": "markdown",
   "id": "f7478752",
   "metadata": {},
   "source": [
    "### Logistic Regression"
   ]
  },
  {
   "cell_type": "code",
   "execution_count": 25,
   "id": "76a92f6b",
   "metadata": {},
   "outputs": [
    {
     "name": "stdout",
     "output_type": "stream",
     "text": [
      "train accuracy =  0.8428731762065096\n",
      "5 CV accuracy =  0.8103132257862031\n"
     ]
    }
   ],
   "source": [
    "from sklearn.linear_model import LogisticRegression\n",
    "\n",
    "x = df_final2.loc[:, df_final2.columns != 'Survived']\n",
    "y = df_final2['Survived']\n",
    "\n",
    "model = LogisticRegression(random_state=0)\n",
    "model.fit(x,y)\n",
    "y_hat = model.predict(x)\n",
    "\n",
    "from sklearn.metrics import accuracy_score\n",
    "model_train_accuracy = accuracy_score(y, y_hat)\n",
    "#score = model.score(x, y)\n",
    "\n",
    "model_cv_accuracy = cross_validation(df_final2, LogisticRegression())\n",
    "\n",
    "print('train accuracy = ', model_train_accuracy)\n",
    "print('5 CV accuracy = ', model_cv_accuracy)"
   ]
  },
  {
   "cell_type": "code",
   "execution_count": 26,
   "id": "f52b53b3",
   "metadata": {},
   "outputs": [
    {
     "name": "stdout",
     "output_type": "stream",
     "text": [
      "Confusion matrix\n",
      "\n",
      " [[501  48]\n",
      " [ 92 250]]\n",
      "\n",
      "True Positives(TP) =  501\n",
      "\n",
      "True Negatives(TN) =  250\n",
      "\n",
      "False Positives(FP) =  48\n",
      "\n",
      "False Negatives(FN) =  92\n"
     ]
    }
   ],
   "source": [
    "cm = conf_mat(y, y_hat)\n",
    "print('Confusion matrix\\n\\n', cm)\n",
    "print('\\nTrue Positives(TP) = ', cm[0,0])\n",
    "print('\\nTrue Negatives(TN) = ', cm[1,1])\n",
    "print('\\nFalse Positives(FP) = ', cm[0,1])\n",
    "print('\\nFalse Negatives(FN) = ', cm[1,0])"
   ]
  },
  {
   "cell_type": "code",
   "execution_count": 27,
   "id": "451e9b76",
   "metadata": {},
   "outputs": [
    {
     "name": "stdout",
     "output_type": "stream",
     "text": [
      "              precision    recall  f1-score   support\n",
      "\n",
      "           0       0.84      0.91      0.88       549\n",
      "           1       0.84      0.73      0.78       342\n",
      "\n",
      "    accuracy                           0.84       891\n",
      "   macro avg       0.84      0.82      0.83       891\n",
      "weighted avg       0.84      0.84      0.84       891\n",
      "\n"
     ]
    }
   ],
   "source": [
    "from sklearn.metrics import classification_report\n",
    "print(classification_report(y, y_hat))"
   ]
  },
  {
   "cell_type": "code",
   "execution_count": 28,
   "id": "4ed7c7ff",
   "metadata": {},
   "outputs": [
    {
     "name": "stdout",
     "output_type": "stream",
     "text": [
      "ROC AUC : 0.8218\n"
     ]
    }
   ],
   "source": [
    "from sklearn.metrics import roc_auc_score\n",
    "ROC_AUC = roc_auc_score(y, y_hat)\n",
    "print('ROC AUC : {:.4f}'.format(ROC_AUC))"
   ]
  },
  {
   "cell_type": "code",
   "execution_count": 29,
   "id": "6b0b2827",
   "metadata": {},
   "outputs": [
    {
     "name": "stdout",
     "output_type": "stream",
     "text": [
      "Cross-validation scores:0.8684398194858318\n"
     ]
    }
   ],
   "source": [
    "from sklearn.model_selection import cross_val_score\n",
    "scores = cross_val_score(model, x, y, cv = 5, scoring='roc_auc')\n",
    "scores = (1/5)*np.sum(scores)\n",
    "print('Cross-validation scores:{}'.format(scores))"
   ]
  },
  {
   "cell_type": "markdown",
   "id": "ad258a61",
   "metadata": {},
   "source": [
    "### KNN Classifier"
   ]
  },
  {
   "cell_type": "code",
   "execution_count": 30,
   "id": "651e3faa",
   "metadata": {},
   "outputs": [],
   "source": [
    "#knn classifier\n",
    "from sklearn.neighbors import KNeighborsClassifier\n",
    "\n",
    "x = df_final2.loc[:, df_final2.columns != 'Survived']\n",
    "y = df_final2['Survived']\n",
    "\n",
    "mse2 = []\n",
    "\n",
    "#verify through CV which neighbors result in minimum rmse\n",
    "for i in range(1,50,1):\n",
    "    mse2.append(cross_validation(df_final2,KNeighborsClassifier(n_neighbors=i)))\n"
   ]
  },
  {
   "cell_type": "code",
   "execution_count": 31,
   "id": "2fdf619e",
   "metadata": {},
   "outputs": [
    {
     "data": {
      "text/html": [
       "<div>\n",
       "<style scoped>\n",
       "    .dataframe tbody tr th:only-of-type {\n",
       "        vertical-align: middle;\n",
       "    }\n",
       "\n",
       "    .dataframe tbody tr th {\n",
       "        vertical-align: top;\n",
       "    }\n",
       "\n",
       "    .dataframe thead th {\n",
       "        text-align: right;\n",
       "    }\n",
       "</style>\n",
       "<table border=\"1\" class=\"dataframe\">\n",
       "  <thead>\n",
       "    <tr style=\"text-align: right;\">\n",
       "      <th></th>\n",
       "      <th>n</th>\n",
       "      <th>rmse</th>\n",
       "    </tr>\n",
       "  </thead>\n",
       "  <tbody>\n",
       "    <tr>\n",
       "      <th>1</th>\n",
       "      <td>2.0</td>\n",
       "      <td>0.760919</td>\n",
       "    </tr>\n",
       "  </tbody>\n",
       "</table>\n",
       "</div>"
      ],
      "text/plain": [
       "     n      rmse\n",
       "1  2.0  0.760919"
      ]
     },
     "execution_count": 31,
     "metadata": {},
     "output_type": "execute_result"
    }
   ],
   "source": [
    "#find the n with least cv-rmse\n",
    "rmse_knn = pd.DataFrame(zip(np.linspace(1,len(mse2),len(mse2)), mse2), columns = ['n','rmse'])\n",
    "rmse_knn['rmse'].min()\n",
    "rmse_knn.loc[rmse_knn['rmse'] == rmse_knn['rmse'].min()]\n",
    "#n_neighbors = 2 produced the smallest mse"
   ]
  },
  {
   "cell_type": "code",
   "execution_count": 32,
   "id": "60ff7f69",
   "metadata": {},
   "outputs": [
    {
     "name": "stdout",
     "output_type": "stream",
     "text": [
      "train accuracy =  0.8911335578002245\n",
      "5 CV accuracy =  0.7609189630280584\n"
     ]
    }
   ],
   "source": [
    "#run knn again with the best n\n",
    "from sklearn.neighbors import KNeighborsClassifier\n",
    "\n",
    "x = df_final2.loc[:, df_final2.columns != 'Survived']\n",
    "y = df_final2['Survived']\n",
    "\n",
    "model12 = KNeighborsClassifier(n_neighbors = 2)\n",
    "model12.fit(x,y)\n",
    "\n",
    "y_hat = model12.predict(x)\n",
    "\n",
    "from sklearn.metrics import accuracy_score\n",
    "model12_train_accuracy = accuracy_score(y, y_hat)\n",
    "#score = model.score(x, y)\n",
    "\n",
    "model12_cv_accuracy = cross_validation(df_final2, KNeighborsClassifier(n_neighbors = 2))\n",
    "\n",
    "print('train accuracy = ', model12_train_accuracy)\n",
    "print('5 CV accuracy = ', model12_cv_accuracy)"
   ]
  },
  {
   "cell_type": "code",
   "execution_count": 33,
   "id": "f3769d99",
   "metadata": {},
   "outputs": [
    {
     "name": "stdout",
     "output_type": "stream",
     "text": [
      "Confusion matrix\n",
      "\n",
      " [[549   0]\n",
      " [ 97 245]]\n",
      "\n",
      "True Positives(TP) =  549\n",
      "\n",
      "True Negatives(TN) =  245\n",
      "\n",
      "False Positives(FP) =  0\n",
      "\n",
      "False Negatives(FN) =  97\n"
     ]
    }
   ],
   "source": [
    "cm = conf_mat(y, y_hat)\n",
    "print('Confusion matrix\\n\\n', cm)\n",
    "print('\\nTrue Positives(TP) = ', cm[0,0])\n",
    "print('\\nTrue Negatives(TN) = ', cm[1,1])\n",
    "print('\\nFalse Positives(FP) = ', cm[0,1])\n",
    "print('\\nFalse Negatives(FN) = ', cm[1,0])"
   ]
  },
  {
   "cell_type": "code",
   "execution_count": 34,
   "id": "19bad9e7",
   "metadata": {},
   "outputs": [
    {
     "name": "stdout",
     "output_type": "stream",
     "text": [
      "              precision    recall  f1-score   support\n",
      "\n",
      "           0       0.85      1.00      0.92       549\n",
      "           1       1.00      0.72      0.83       342\n",
      "\n",
      "    accuracy                           0.89       891\n",
      "   macro avg       0.92      0.86      0.88       891\n",
      "weighted avg       0.91      0.89      0.89       891\n",
      "\n"
     ]
    }
   ],
   "source": [
    "from sklearn.metrics import classification_report\n",
    "print(classification_report(y, y_hat))"
   ]
  },
  {
   "cell_type": "code",
   "execution_count": 35,
   "id": "2142bc3c",
   "metadata": {},
   "outputs": [
    {
     "name": "stdout",
     "output_type": "stream",
     "text": [
      "ROC AUC : 0.8582\n"
     ]
    }
   ],
   "source": [
    "from sklearn.metrics import roc_auc_score\n",
    "ROC_AUC = roc_auc_score(y, y_hat)\n",
    "print('ROC AUC : {:.4f}'.format(ROC_AUC))"
   ]
  },
  {
   "cell_type": "code",
   "execution_count": 36,
   "id": "53e83eff",
   "metadata": {},
   "outputs": [
    {
     "name": "stdout",
     "output_type": "stream",
     "text": [
      "Cross-validation scores:0.8171611039890447\n"
     ]
    }
   ],
   "source": [
    "from sklearn.model_selection import cross_val_score\n",
    "scores = cross_val_score(model12, x, y, cv = 5, scoring='roc_auc')\n",
    "scores = (1/5)*np.sum(scores)\n",
    "print('Cross-validation scores:{}'.format(scores))"
   ]
  },
  {
   "cell_type": "markdown",
   "id": "ebddf7ad",
   "metadata": {},
   "source": [
    "### LDA"
   ]
  },
  {
   "cell_type": "code",
   "execution_count": 37,
   "id": "a3d6edae",
   "metadata": {},
   "outputs": [
    {
     "name": "stdout",
     "output_type": "stream",
     "text": [
      "train accuracy =  0.9528619528619529\n",
      "5 CV accuracy =  0.6948088632226477\n"
     ]
    }
   ],
   "source": [
    "from sklearn.discriminant_analysis import LinearDiscriminantAnalysis\n",
    "\n",
    "x = df_final2.loc[:, df_final2.columns != 'Survived']\n",
    "y = df_final2['Survived']\n",
    "\n",
    "model2 = LinearDiscriminantAnalysis()\n",
    "model2.fit(x,y)\n",
    "y_hat = model2.predict(x)\n",
    "\n",
    "from sklearn.metrics import accuracy_score\n",
    "model2_train_accuracy = accuracy_score(y, y_hat)\n",
    "#score = model.score(x, y)\n",
    "\n",
    "model2_cv_accuracy = cross_validation(df_final2, LinearDiscriminantAnalysis())\n",
    "\n",
    "print('train accuracy = ', model2_train_accuracy)\n",
    "print('5 CV accuracy = ', model2_cv_accuracy)"
   ]
  },
  {
   "cell_type": "code",
   "execution_count": 38,
   "id": "c849f1f6",
   "metadata": {},
   "outputs": [
    {
     "name": "stdout",
     "output_type": "stream",
     "text": [
      "Confusion matrix\n",
      "\n",
      " [[530  19]\n",
      " [ 23 319]]\n",
      "\n",
      "True Positives(TP) =  530\n",
      "\n",
      "True Negatives(TN) =  319\n",
      "\n",
      "False Positives(FP) =  19\n",
      "\n",
      "False Negatives(FN) =  23\n"
     ]
    }
   ],
   "source": [
    "cm = conf_mat(y, y_hat)\n",
    "print('Confusion matrix\\n\\n', cm)\n",
    "print('\\nTrue Positives(TP) = ', cm[0,0])\n",
    "print('\\nTrue Negatives(TN) = ', cm[1,1])\n",
    "print('\\nFalse Positives(FP) = ', cm[0,1])\n",
    "print('\\nFalse Negatives(FN) = ', cm[1,0])"
   ]
  },
  {
   "cell_type": "code",
   "execution_count": 39,
   "id": "9992ad3c",
   "metadata": {},
   "outputs": [
    {
     "name": "stdout",
     "output_type": "stream",
     "text": [
      "              precision    recall  f1-score   support\n",
      "\n",
      "           0       0.96      0.97      0.96       549\n",
      "           1       0.94      0.93      0.94       342\n",
      "\n",
      "    accuracy                           0.95       891\n",
      "   macro avg       0.95      0.95      0.95       891\n",
      "weighted avg       0.95      0.95      0.95       891\n",
      "\n"
     ]
    }
   ],
   "source": [
    "from sklearn.metrics import classification_report\n",
    "print(classification_report(y, y_hat))"
   ]
  },
  {
   "cell_type": "code",
   "execution_count": 40,
   "id": "64371796",
   "metadata": {},
   "outputs": [
    {
     "name": "stdout",
     "output_type": "stream",
     "text": [
      "ROC AUC : 0.9491\n"
     ]
    }
   ],
   "source": [
    "from sklearn.metrics import roc_auc_score\n",
    "ROC_AUC = roc_auc_score(y, y_hat)\n",
    "print('ROC AUC : {:.4f}'.format(ROC_AUC))"
   ]
  },
  {
   "cell_type": "code",
   "execution_count": 41,
   "id": "8d6579ae",
   "metadata": {},
   "outputs": [
    {
     "name": "stdout",
     "output_type": "stream",
     "text": [
      "Cross-validation scores:0.7562941482209884\n"
     ]
    }
   ],
   "source": [
    "from sklearn.model_selection import cross_val_score\n",
    "scores = cross_val_score(model2, x, y, cv = 5, scoring='roc_auc')\n",
    "scores = (1/5)*np.sum(scores)\n",
    "print('Cross-validation scores:{}'.format(scores))"
   ]
  },
  {
   "cell_type": "markdown",
   "id": "164093a7",
   "metadata": {},
   "source": [
    "### QDA"
   ]
  },
  {
   "cell_type": "code",
   "execution_count": 42,
   "id": "82b6ae57",
   "metadata": {},
   "outputs": [
    {
     "name": "stdout",
     "output_type": "stream",
     "text": [
      "train accuracy =  0.9393939393939394\n",
      "5 CV accuracy =  0.6767497332245308\n"
     ]
    }
   ],
   "source": [
    "from sklearn.discriminant_analysis import QuadraticDiscriminantAnalysis\n",
    "\n",
    "x = df_final2.loc[:, df_final2.columns != 'Survived']\n",
    "y = df_final2['Survived']\n",
    "\n",
    "model3 = QuadraticDiscriminantAnalysis()\n",
    "model3.fit(x,y)\n",
    "y_hat = model3.predict(x)\n",
    "\n",
    "from sklearn.metrics import accuracy_score\n",
    "model3_train_accuracy = accuracy_score(y, y_hat)\n",
    "#score = model.score(x, y)\n",
    "\n",
    "model3_cv_accuracy = cross_validation(df_final2, QuadraticDiscriminantAnalysis())\n",
    "\n",
    "print('train accuracy = ', model3_train_accuracy)\n",
    "print('5 CV accuracy = ', model3_cv_accuracy)"
   ]
  },
  {
   "cell_type": "code",
   "execution_count": 43,
   "id": "7059aa23",
   "metadata": {},
   "outputs": [
    {
     "name": "stdout",
     "output_type": "stream",
     "text": [
      "Confusion matrix\n",
      "\n",
      " [[495  54]\n",
      " [  0 342]]\n",
      "\n",
      "True Positives(TP) =  495\n",
      "\n",
      "True Negatives(TN) =  342\n",
      "\n",
      "False Positives(FP) =  54\n",
      "\n",
      "False Negatives(FN) =  0\n"
     ]
    }
   ],
   "source": [
    "cm = conf_mat(y, y_hat)\n",
    "print('Confusion matrix\\n\\n', cm)\n",
    "print('\\nTrue Positives(TP) = ', cm[0,0])\n",
    "print('\\nTrue Negatives(TN) = ', cm[1,1])\n",
    "print('\\nFalse Positives(FP) = ', cm[0,1])\n",
    "print('\\nFalse Negatives(FN) = ', cm[1,0])"
   ]
  },
  {
   "cell_type": "code",
   "execution_count": 44,
   "id": "e81c4e0c",
   "metadata": {},
   "outputs": [
    {
     "name": "stdout",
     "output_type": "stream",
     "text": [
      "              precision    recall  f1-score   support\n",
      "\n",
      "           0       1.00      0.90      0.95       549\n",
      "           1       0.86      1.00      0.93       342\n",
      "\n",
      "    accuracy                           0.94       891\n",
      "   macro avg       0.93      0.95      0.94       891\n",
      "weighted avg       0.95      0.94      0.94       891\n",
      "\n"
     ]
    }
   ],
   "source": [
    "from sklearn.metrics import classification_report\n",
    "print(classification_report(y, y_hat))"
   ]
  },
  {
   "cell_type": "code",
   "execution_count": 45,
   "id": "2d485d0c",
   "metadata": {},
   "outputs": [
    {
     "name": "stdout",
     "output_type": "stream",
     "text": [
      "ROC AUC : 0.9508\n"
     ]
    }
   ],
   "source": [
    "from sklearn.metrics import roc_auc_score\n",
    "ROC_AUC = roc_auc_score(y, y_hat)\n",
    "print('ROC AUC : {:.4f}'.format(ROC_AUC))"
   ]
  },
  {
   "cell_type": "code",
   "execution_count": 46,
   "id": "d1cc38f6",
   "metadata": {},
   "outputs": [
    {
     "name": "stdout",
     "output_type": "stream",
     "text": [
      "Cross-validation scores:0.6850523756298763\n"
     ]
    }
   ],
   "source": [
    "from sklearn.model_selection import cross_val_score\n",
    "scores = cross_val_score(model3, x, y, cv = 5, scoring='roc_auc')\n",
    "scores = (1/5)*np.sum(scores)\n",
    "print('Cross-validation scores:{}'.format(scores))"
   ]
  },
  {
   "cell_type": "markdown",
   "id": "fd0e0ef6",
   "metadata": {},
   "source": [
    "### SVC"
   ]
  },
  {
   "cell_type": "code",
   "execution_count": 47,
   "id": "40d6e86c",
   "metadata": {},
   "outputs": [
    {
     "name": "stdout",
     "output_type": "stream",
     "text": [
      "train accuracy =  0.7867564534231201\n",
      "5 CV accuracy =  0.7867177201682255\n"
     ]
    }
   ],
   "source": [
    "from sklearn.svm import SVC\n",
    "\n",
    "x = df_final2.loc[:, df_final2.columns != 'Survived']\n",
    "y = df_final2['Survived']\n",
    "\n",
    "model4 = SVC(gamma='auto')\n",
    "model4.fit(x,y)\n",
    "y_hat = model4.predict(x)\n",
    "\n",
    "from sklearn.metrics import accuracy_score\n",
    "model4_train_accuracy = accuracy_score(y, y_hat)\n",
    "#score = model.score(x, y)\n",
    "\n",
    "model4_cv_accuracy = cross_validation(df_final2, SVC(gamma='auto'))\n",
    "\n",
    "print('train accuracy = ', model4_train_accuracy)\n",
    "print('5 CV accuracy = ', model4_cv_accuracy)"
   ]
  },
  {
   "cell_type": "code",
   "execution_count": 48,
   "id": "8db835e2",
   "metadata": {},
   "outputs": [
    {
     "name": "stdout",
     "output_type": "stream",
     "text": [
      "Confusion matrix\n",
      "\n",
      " [[468  81]\n",
      " [109 233]]\n",
      "\n",
      "True Positives(TP) =  468\n",
      "\n",
      "True Negatives(TN) =  233\n",
      "\n",
      "False Positives(FP) =  81\n",
      "\n",
      "False Negatives(FN) =  109\n"
     ]
    }
   ],
   "source": [
    "cm = conf_mat(y, y_hat)\n",
    "print('Confusion matrix\\n\\n', cm)\n",
    "print('\\nTrue Positives(TP) = ', cm[0,0])\n",
    "print('\\nTrue Negatives(TN) = ', cm[1,1])\n",
    "print('\\nFalse Positives(FP) = ', cm[0,1])\n",
    "print('\\nFalse Negatives(FN) = ', cm[1,0])"
   ]
  },
  {
   "cell_type": "code",
   "execution_count": 49,
   "id": "c1372b3d",
   "metadata": {},
   "outputs": [
    {
     "name": "stdout",
     "output_type": "stream",
     "text": [
      "              precision    recall  f1-score   support\n",
      "\n",
      "           0       0.81      0.85      0.83       549\n",
      "           1       0.74      0.68      0.71       342\n",
      "\n",
      "    accuracy                           0.79       891\n",
      "   macro avg       0.78      0.77      0.77       891\n",
      "weighted avg       0.78      0.79      0.78       891\n",
      "\n"
     ]
    }
   ],
   "source": [
    "from sklearn.metrics import classification_report\n",
    "print(classification_report(y, y_hat))"
   ]
  },
  {
   "cell_type": "code",
   "execution_count": 50,
   "id": "dcf2f31d",
   "metadata": {},
   "outputs": [
    {
     "name": "stdout",
     "output_type": "stream",
     "text": [
      "ROC AUC : 0.7669\n"
     ]
    }
   ],
   "source": [
    "from sklearn.metrics import roc_auc_score\n",
    "ROC_AUC = roc_auc_score(y, y_hat)\n",
    "print('ROC AUC : {:.4f}'.format(ROC_AUC))"
   ]
  },
  {
   "cell_type": "code",
   "execution_count": 51,
   "id": "4005b9ee",
   "metadata": {},
   "outputs": [
    {
     "name": "stdout",
     "output_type": "stream",
     "text": [
      "Cross-validation scores:0.8518861803705419\n"
     ]
    }
   ],
   "source": [
    "from sklearn.model_selection import cross_val_score\n",
    "scores = cross_val_score(model4, x, y, cv = 5, scoring='roc_auc')\n",
    "scores = (1/5)*np.sum(scores)\n",
    "print('Cross-validation scores:{}'.format(scores))"
   ]
  },
  {
   "cell_type": "markdown",
   "id": "665fcd00",
   "metadata": {},
   "source": [
    "### SVM"
   ]
  },
  {
   "cell_type": "code",
   "execution_count": 52,
   "id": "bba5b6f9",
   "metadata": {},
   "outputs": [
    {
     "name": "stdout",
     "output_type": "stream",
     "text": [
      "train accuracy =  0.8765432098765432\n",
      "5 CV accuracy =  0.8215115184232001\n"
     ]
    }
   ],
   "source": [
    "#kernel{‘linear’, ‘poly’, ‘rbf’, ‘sigmoid’, ‘precomputed’} or callable, default=’rbf’\n",
    "\n",
    "from sklearn.svm import SVC\n",
    "\n",
    "x = df_final2.loc[:, df_final2.columns != 'Survived']\n",
    "y = df_final2['Survived']\n",
    "\n",
    "model4 = SVC(gamma='auto', kernel = 'linear')\n",
    "model4.fit(x,y)\n",
    "y_hat = model4.predict(x)\n",
    "\n",
    "from sklearn.metrics import accuracy_score\n",
    "model4_train_accuracy = accuracy_score(y, y_hat)\n",
    "#score = model.score(x, y)\n",
    "\n",
    "model4_cv_accuracy = cross_validation(df_final2,SVC(gamma='auto', kernel = 'linear'))\n",
    "\n",
    "print('train accuracy = ', model4_train_accuracy)\n",
    "print('5 CV accuracy = ', model4_cv_accuracy)"
   ]
  },
  {
   "cell_type": "code",
   "execution_count": 53,
   "id": "a365043b",
   "metadata": {},
   "outputs": [
    {
     "name": "stdout",
     "output_type": "stream",
     "text": [
      "Confusion matrix\n",
      "\n",
      " [[512  37]\n",
      " [ 73 269]]\n",
      "\n",
      "True Positives(TP) =  512\n",
      "\n",
      "True Negatives(TN) =  269\n",
      "\n",
      "False Positives(FP) =  37\n",
      "\n",
      "False Negatives(FN) =  73\n"
     ]
    }
   ],
   "source": [
    "cm = conf_mat(y, y_hat)\n",
    "print('Confusion matrix\\n\\n', cm)\n",
    "print('\\nTrue Positives(TP) = ', cm[0,0])\n",
    "print('\\nTrue Negatives(TN) = ', cm[1,1])\n",
    "print('\\nFalse Positives(FP) = ', cm[0,1])\n",
    "print('\\nFalse Negatives(FN) = ', cm[1,0])"
   ]
  },
  {
   "cell_type": "code",
   "execution_count": 54,
   "id": "20e0a159",
   "metadata": {},
   "outputs": [
    {
     "name": "stdout",
     "output_type": "stream",
     "text": [
      "              precision    recall  f1-score   support\n",
      "\n",
      "           0       0.88      0.93      0.90       549\n",
      "           1       0.88      0.79      0.83       342\n",
      "\n",
      "    accuracy                           0.88       891\n",
      "   macro avg       0.88      0.86      0.87       891\n",
      "weighted avg       0.88      0.88      0.88       891\n",
      "\n"
     ]
    }
   ],
   "source": [
    "from sklearn.metrics import classification_report\n",
    "print(classification_report(y, y_hat))"
   ]
  },
  {
   "cell_type": "code",
   "execution_count": 55,
   "id": "542f7dee",
   "metadata": {},
   "outputs": [
    {
     "name": "stdout",
     "output_type": "stream",
     "text": [
      "ROC AUC : 0.8596\n"
     ]
    }
   ],
   "source": [
    "from sklearn.metrics import roc_auc_score\n",
    "ROC_AUC = roc_auc_score(y, y_hat)\n",
    "print('ROC AUC : {:.4f}'.format(ROC_AUC))"
   ]
  },
  {
   "cell_type": "code",
   "execution_count": 56,
   "id": "c47871fc",
   "metadata": {},
   "outputs": [
    {
     "name": "stdout",
     "output_type": "stream",
     "text": [
      "Cross-validation scores:0.8697628422946944\n"
     ]
    }
   ],
   "source": [
    "from sklearn.model_selection import cross_val_score\n",
    "scores = cross_val_score(model4, x, y, cv = 5, scoring='roc_auc')\n",
    "scores = (1/5)*np.sum(scores)\n",
    "print('Cross-validation scores:{}'.format(scores))"
   ]
  },
  {
   "cell_type": "code",
   "execution_count": 57,
   "id": "eafd4385",
   "metadata": {},
   "outputs": [
    {
     "name": "stdout",
     "output_type": "stream",
     "text": [
      "train accuracy =  0.6161616161616161\n",
      "5 CV accuracy =  0.6161195154102066\n"
     ]
    }
   ],
   "source": [
    "#kernel{‘linear’, ‘poly’, ‘rbf’, ‘sigmoid’, ‘precomputed’} or callable, default=’rbf’\n",
    "\n",
    "from sklearn.svm import SVC\n",
    "\n",
    "x = df_final2.loc[:, df_final2.columns != 'Survived']\n",
    "y = df_final2['Survived']\n",
    "\n",
    "model4 = SVC(gamma='auto', kernel = 'poly')\n",
    "model4.fit(x,y)\n",
    "y_hat = model4.predict(x)\n",
    "\n",
    "from sklearn.metrics import accuracy_score\n",
    "model4_train_accuracy = accuracy_score(y, y_hat)\n",
    "#score = model.score(x, y)\n",
    "\n",
    "model4_cv_accuracy = cross_validation(df_final2,SVC(gamma='auto', kernel = 'poly'))\n",
    "\n",
    "print('train accuracy = ', model4_train_accuracy)\n",
    "print('5 CV accuracy = ', model4_cv_accuracy)"
   ]
  },
  {
   "cell_type": "code",
   "execution_count": 58,
   "id": "2e576bc0",
   "metadata": {},
   "outputs": [
    {
     "name": "stdout",
     "output_type": "stream",
     "text": [
      "Confusion matrix\n",
      "\n",
      " [[549   0]\n",
      " [342   0]]\n",
      "\n",
      "True Positives(TP) =  549\n",
      "\n",
      "True Negatives(TN) =  0\n",
      "\n",
      "False Positives(FP) =  0\n",
      "\n",
      "False Negatives(FN) =  342\n"
     ]
    }
   ],
   "source": [
    "cm = conf_mat(y, y_hat)\n",
    "print('Confusion matrix\\n\\n', cm)\n",
    "print('\\nTrue Positives(TP) = ', cm[0,0])\n",
    "print('\\nTrue Negatives(TN) = ', cm[1,1])\n",
    "print('\\nFalse Positives(FP) = ', cm[0,1])\n",
    "print('\\nFalse Negatives(FN) = ', cm[1,0])"
   ]
  },
  {
   "cell_type": "code",
   "execution_count": 59,
   "id": "1d9a48a4",
   "metadata": {},
   "outputs": [
    {
     "name": "stdout",
     "output_type": "stream",
     "text": [
      "              precision    recall  f1-score   support\n",
      "\n",
      "           0       0.62      1.00      0.76       549\n",
      "           1       0.00      0.00      0.00       342\n",
      "\n",
      "    accuracy                           0.62       891\n",
      "   macro avg       0.31      0.50      0.38       891\n",
      "weighted avg       0.38      0.62      0.47       891\n",
      "\n"
     ]
    }
   ],
   "source": [
    "from sklearn.metrics import classification_report\n",
    "print(classification_report(y, y_hat))"
   ]
  },
  {
   "cell_type": "code",
   "execution_count": 60,
   "id": "f9f17c52",
   "metadata": {},
   "outputs": [
    {
     "name": "stdout",
     "output_type": "stream",
     "text": [
      "ROC AUC : 0.5000\n"
     ]
    }
   ],
   "source": [
    "from sklearn.metrics import roc_auc_score\n",
    "ROC_AUC = roc_auc_score(y, y_hat)\n",
    "print('ROC AUC : {:.4f}'.format(ROC_AUC))"
   ]
  },
  {
   "cell_type": "code",
   "execution_count": 61,
   "id": "dbc97c2a",
   "metadata": {},
   "outputs": [
    {
     "name": "stdout",
     "output_type": "stream",
     "text": [
      "Cross-validation scores:0.8457646717533154\n"
     ]
    }
   ],
   "source": [
    "from sklearn.model_selection import cross_val_score\n",
    "scores = cross_val_score(model4, x, y, cv = 5, scoring='roc_auc')\n",
    "scores = (1/5)*np.sum(scores)\n",
    "print('Cross-validation scores:{}'.format(scores))"
   ]
  },
  {
   "cell_type": "code",
   "execution_count": 62,
   "id": "f8fa39b0",
   "metadata": {},
   "outputs": [
    {
     "name": "stdout",
     "output_type": "stream",
     "text": [
      "train accuracy =  0.7867564534231201\n",
      "5 CV accuracy =  0.7867177201682255\n"
     ]
    }
   ],
   "source": [
    "#kernel{‘linear’, ‘poly’, ‘rbf’, ‘sigmoid’, ‘precomputed’} or callable, default=’rbf’\n",
    "\n",
    "from sklearn.svm import SVC\n",
    "\n",
    "x = df_final2.loc[:, df_final2.columns != 'Survived']\n",
    "y = df_final2['Survived']\n",
    "\n",
    "model4 = SVC(gamma='auto', kernel = 'rbf')\n",
    "model4.fit(x,y)\n",
    "y_hat = model4.predict(x)\n",
    "\n",
    "from sklearn.metrics import accuracy_score\n",
    "model4_train_accuracy = accuracy_score(y, y_hat)\n",
    "#score = model.score(x, y)\n",
    "\n",
    "model4_cv_accuracy = cross_validation(df_final2,SVC(gamma='auto', kernel = 'rbf'))\n",
    "\n",
    "print('train accuracy = ', model4_train_accuracy)\n",
    "print('5 CV accuracy = ', model4_cv_accuracy)"
   ]
  },
  {
   "cell_type": "code",
   "execution_count": 63,
   "id": "4fde3f60",
   "metadata": {},
   "outputs": [
    {
     "name": "stdout",
     "output_type": "stream",
     "text": [
      "Confusion matrix\n",
      "\n",
      " [[468  81]\n",
      " [109 233]]\n",
      "\n",
      "True Positives(TP) =  468\n",
      "\n",
      "True Negatives(TN) =  233\n",
      "\n",
      "False Positives(FP) =  81\n",
      "\n",
      "False Negatives(FN) =  109\n"
     ]
    }
   ],
   "source": [
    "cm = conf_mat(y, y_hat)\n",
    "print('Confusion matrix\\n\\n', cm)\n",
    "print('\\nTrue Positives(TP) = ', cm[0,0])\n",
    "print('\\nTrue Negatives(TN) = ', cm[1,1])\n",
    "print('\\nFalse Positives(FP) = ', cm[0,1])\n",
    "print('\\nFalse Negatives(FN) = ', cm[1,0])"
   ]
  },
  {
   "cell_type": "code",
   "execution_count": 64,
   "id": "38430a17",
   "metadata": {},
   "outputs": [
    {
     "name": "stdout",
     "output_type": "stream",
     "text": [
      "              precision    recall  f1-score   support\n",
      "\n",
      "           0       0.81      0.85      0.83       549\n",
      "           1       0.74      0.68      0.71       342\n",
      "\n",
      "    accuracy                           0.79       891\n",
      "   macro avg       0.78      0.77      0.77       891\n",
      "weighted avg       0.78      0.79      0.78       891\n",
      "\n"
     ]
    }
   ],
   "source": [
    "from sklearn.metrics import classification_report\n",
    "print(classification_report(y, y_hat))"
   ]
  },
  {
   "cell_type": "code",
   "execution_count": 65,
   "id": "23ca0889",
   "metadata": {},
   "outputs": [
    {
     "name": "stdout",
     "output_type": "stream",
     "text": [
      "ROC AUC : 0.7669\n"
     ]
    }
   ],
   "source": [
    "from sklearn.metrics import roc_auc_score\n",
    "ROC_AUC = roc_auc_score(y, y_hat)\n",
    "print('ROC AUC : {:.4f}'.format(ROC_AUC))"
   ]
  },
  {
   "cell_type": "code",
   "execution_count": 66,
   "id": "0729358f",
   "metadata": {},
   "outputs": [
    {
     "name": "stdout",
     "output_type": "stream",
     "text": [
      "Cross-validation scores:0.8518861803705419\n"
     ]
    }
   ],
   "source": [
    "from sklearn.model_selection import cross_val_score\n",
    "scores = cross_val_score(model4, x, y, cv = 5, scoring='roc_auc')\n",
    "scores = (1/5)*np.sum(scores)\n",
    "print('Cross-validation scores:{}'.format(scores))"
   ]
  },
  {
   "cell_type": "code",
   "execution_count": 67,
   "id": "b16016ff",
   "metadata": {},
   "outputs": [
    {
     "name": "stdout",
     "output_type": "stream",
     "text": [
      "train accuracy =  0.6161616161616161\n",
      "5 CV accuracy =  0.6161195154102066\n"
     ]
    }
   ],
   "source": [
    "#kernel{‘linear’, ‘poly’, ‘rbf’, ‘sigmoid’, ‘precomputed’} or callable, default=’rbf’\n",
    "\n",
    "from sklearn.svm import SVC\n",
    "\n",
    "x = df_final2.loc[:, df_final2.columns != 'Survived']\n",
    "y = df_final2['Survived']\n",
    "\n",
    "model4 = SVC(gamma='auto', kernel = 'sigmoid')\n",
    "model4.fit(x,y)\n",
    "y_hat = model4.predict(x)\n",
    "\n",
    "from sklearn.metrics import accuracy_score\n",
    "model4_train_accuracy = accuracy_score(y, y_hat)\n",
    "#score = model.score(x, y)\n",
    "\n",
    "model4_cv_accuracy = cross_validation(df_final2,SVC(gamma='auto', kernel = 'sigmoid'))\n",
    "\n",
    "print('train accuracy = ', model4_train_accuracy)\n",
    "print('5 CV accuracy = ', model4_cv_accuracy)"
   ]
  },
  {
   "cell_type": "code",
   "execution_count": 68,
   "id": "7c587a36",
   "metadata": {},
   "outputs": [
    {
     "name": "stdout",
     "output_type": "stream",
     "text": [
      "Confusion matrix\n",
      "\n",
      " [[549   0]\n",
      " [342   0]]\n",
      "\n",
      "True Positives(TP) =  549\n",
      "\n",
      "True Negatives(TN) =  0\n",
      "\n",
      "False Positives(FP) =  0\n",
      "\n",
      "False Negatives(FN) =  342\n"
     ]
    }
   ],
   "source": [
    "cm = conf_mat(y, y_hat)\n",
    "print('Confusion matrix\\n\\n', cm)\n",
    "print('\\nTrue Positives(TP) = ', cm[0,0])\n",
    "print('\\nTrue Negatives(TN) = ', cm[1,1])\n",
    "print('\\nFalse Positives(FP) = ', cm[0,1])\n",
    "print('\\nFalse Negatives(FN) = ', cm[1,0])"
   ]
  },
  {
   "cell_type": "code",
   "execution_count": 69,
   "id": "0c379e1d",
   "metadata": {},
   "outputs": [
    {
     "name": "stdout",
     "output_type": "stream",
     "text": [
      "              precision    recall  f1-score   support\n",
      "\n",
      "           0       0.62      1.00      0.76       549\n",
      "           1       0.00      0.00      0.00       342\n",
      "\n",
      "    accuracy                           0.62       891\n",
      "   macro avg       0.31      0.50      0.38       891\n",
      "weighted avg       0.38      0.62      0.47       891\n",
      "\n"
     ]
    }
   ],
   "source": [
    "from sklearn.metrics import classification_report\n",
    "print(classification_report(y, y_hat))"
   ]
  },
  {
   "cell_type": "code",
   "execution_count": 70,
   "id": "38e91055",
   "metadata": {},
   "outputs": [
    {
     "name": "stdout",
     "output_type": "stream",
     "text": [
      "ROC AUC : 0.5000\n"
     ]
    }
   ],
   "source": [
    "from sklearn.metrics import roc_auc_score\n",
    "ROC_AUC = roc_auc_score(y, y_hat)\n",
    "print('ROC AUC : {:.4f}'.format(ROC_AUC))"
   ]
  },
  {
   "cell_type": "code",
   "execution_count": 71,
   "id": "6c8c6e02",
   "metadata": {},
   "outputs": [
    {
     "name": "stdout",
     "output_type": "stream",
     "text": [
      "Cross-validation scores:0.8524138224024425\n"
     ]
    }
   ],
   "source": [
    "from sklearn.model_selection import cross_val_score\n",
    "scores = cross_val_score(model4, x, y, cv = 5, scoring='roc_auc')\n",
    "scores = (1/5)*np.sum(scores)\n",
    "print('Cross-validation scores:{}'.format(scores))"
   ]
  },
  {
   "cell_type": "markdown",
   "id": "e7c1d29c",
   "metadata": {},
   "source": [
    "### Decision Tree"
   ]
  },
  {
   "cell_type": "code",
   "execution_count": 72,
   "id": "39fda4ee",
   "metadata": {},
   "outputs": [],
   "source": [
    "from sklearn.tree import DecisionTreeClassifier\n",
    "\n",
    "x = df_final2.loc[:, df_final2.columns != 'Survived']\n",
    "y = df_final2['Survived']\n",
    "\n",
    "acc2 = []\n",
    "\n",
    "for i in range(1,20,1):\n",
    "    acc2.append(cross_validation(df_final,DecisionTreeClassifier(max_depth=i)))"
   ]
  },
  {
   "cell_type": "code",
   "execution_count": 73,
   "id": "f03e32e6",
   "metadata": {},
   "outputs": [
    {
     "data": {
      "text/html": [
       "<div>\n",
       "<style scoped>\n",
       "    .dataframe tbody tr th:only-of-type {\n",
       "        vertical-align: middle;\n",
       "    }\n",
       "\n",
       "    .dataframe tbody tr th {\n",
       "        vertical-align: top;\n",
       "    }\n",
       "\n",
       "    .dataframe thead th {\n",
       "        text-align: right;\n",
       "    }\n",
       "</style>\n",
       "<table border=\"1\" class=\"dataframe\">\n",
       "  <thead>\n",
       "    <tr style=\"text-align: right;\">\n",
       "      <th></th>\n",
       "      <th>n</th>\n",
       "      <th>accuracy</th>\n",
       "    </tr>\n",
       "  </thead>\n",
       "  <tbody>\n",
       "    <tr>\n",
       "      <th>16</th>\n",
       "      <td>17.0</td>\n",
       "      <td>0.828247</td>\n",
       "    </tr>\n",
       "  </tbody>\n",
       "</table>\n",
       "</div>"
      ],
      "text/plain": [
       "       n  accuracy\n",
       "16  17.0  0.828247"
      ]
     },
     "execution_count": 73,
     "metadata": {},
     "output_type": "execute_result"
    }
   ],
   "source": [
    "acc_tree = pd.DataFrame(zip(np.linspace(1,len(acc2),len(acc2)), acc2), columns = ['n','accuracy'])\n",
    "acc_tree.loc[acc_tree['accuracy'] == acc_tree['accuracy'].max()]\n",
    "#max_depth = 19 produced the largest accuraccy"
   ]
  },
  {
   "cell_type": "code",
   "execution_count": 74,
   "id": "214fa6e7",
   "metadata": {},
   "outputs": [
    {
     "name": "stdout",
     "output_type": "stream",
     "text": [
      "train accuracy =  0.9854096520763187\n",
      "5 CV accuracy =  0.7519553072625699\n"
     ]
    }
   ],
   "source": [
    "from sklearn.tree import DecisionTreeClassifier\n",
    "\n",
    "x = df_final2.loc[:, df_final2.columns != 'Survived']\n",
    "y = df_final2['Survived']\n",
    "\n",
    "model5 = DecisionTreeClassifier(max_depth=17)\n",
    "model5.fit(x,y)\n",
    "\n",
    "y_hat = model5.predict(x)\n",
    "\n",
    "\n",
    "from sklearn.metrics import accuracy_score\n",
    "model5_train_accuracy = accuracy_score(y, y_hat)\n",
    "#score = model.score(x, y)\n",
    "\n",
    "model5_cv_accuracy = cross_validation(df_final2,DecisionTreeClassifier(max_depth=17))\n",
    "\n",
    "print('train accuracy = ', model5_train_accuracy)\n",
    "print('5 CV accuracy = ', model5_cv_accuracy)"
   ]
  },
  {
   "cell_type": "code",
   "execution_count": 75,
   "id": "7b87c142",
   "metadata": {},
   "outputs": [
    {
     "name": "stdout",
     "output_type": "stream",
     "text": [
      "Confusion matrix\n",
      "\n",
      " [[549   0]\n",
      " [ 13 329]]\n",
      "\n",
      "True Positives(TP) =  549\n",
      "\n",
      "True Negatives(TN) =  329\n",
      "\n",
      "False Positives(FP) =  0\n",
      "\n",
      "False Negatives(FN) =  13\n"
     ]
    }
   ],
   "source": [
    "cm = conf_mat(y, y_hat)\n",
    "print('Confusion matrix\\n\\n', cm)\n",
    "print('\\nTrue Positives(TP) = ', cm[0,0])\n",
    "print('\\nTrue Negatives(TN) = ', cm[1,1])\n",
    "print('\\nFalse Positives(FP) = ', cm[0,1])\n",
    "print('\\nFalse Negatives(FN) = ', cm[1,0])"
   ]
  },
  {
   "cell_type": "code",
   "execution_count": 76,
   "id": "40f6e546",
   "metadata": {},
   "outputs": [
    {
     "name": "stdout",
     "output_type": "stream",
     "text": [
      "              precision    recall  f1-score   support\n",
      "\n",
      "           0       0.98      1.00      0.99       549\n",
      "           1       1.00      0.96      0.98       342\n",
      "\n",
      "    accuracy                           0.99       891\n",
      "   macro avg       0.99      0.98      0.98       891\n",
      "weighted avg       0.99      0.99      0.99       891\n",
      "\n"
     ]
    }
   ],
   "source": [
    "from sklearn.metrics import classification_report\n",
    "print(classification_report(y, y_hat))"
   ]
  },
  {
   "cell_type": "code",
   "execution_count": 77,
   "id": "f2962e89",
   "metadata": {},
   "outputs": [
    {
     "name": "stdout",
     "output_type": "stream",
     "text": [
      "ROC AUC : 0.9810\n"
     ]
    }
   ],
   "source": [
    "from sklearn.metrics import roc_auc_score\n",
    "ROC_AUC = roc_auc_score(y, y_hat)\n",
    "print('ROC AUC : {:.4f}'.format(ROC_AUC))"
   ]
  },
  {
   "cell_type": "code",
   "execution_count": 78,
   "id": "0265060e",
   "metadata": {},
   "outputs": [
    {
     "name": "stdout",
     "output_type": "stream",
     "text": [
      "Cross-validation scores:0.7244286603570609\n"
     ]
    }
   ],
   "source": [
    "from sklearn.model_selection import cross_val_score\n",
    "scores = cross_val_score(model5, x, y, cv = 5, scoring='roc_auc')\n",
    "scores = (1/5)*np.sum(scores)\n",
    "print('Cross-validation scores:{}'.format(scores))"
   ]
  },
  {
   "cell_type": "markdown",
   "id": "2a40e835",
   "metadata": {},
   "source": [
    "### Decision Tree Pruning"
   ]
  },
  {
   "cell_type": "code",
   "execution_count": 79,
   "id": "bdc5b809",
   "metadata": {},
   "outputs": [],
   "source": [
    "from sklearn.tree import DecisionTreeClassifier\n",
    "\n",
    "x = df_final2.loc[:, df_final2.columns != 'Survived']\n",
    "y = df_final2['Survived']\n",
    "\n",
    "acc2 = []\n",
    "\n",
    "alpha_values = np.linspace(0.0, 0.2, 200)\n",
    "\n",
    "for i in range(len(alpha_values)-1):\n",
    "    acc2.append(cross_validation(df_final,DecisionTreeClassifier(ccp_alpha = i)))"
   ]
  },
  {
   "cell_type": "code",
   "execution_count": 80,
   "id": "04a156a6",
   "metadata": {},
   "outputs": [
    {
     "data": {
      "text/html": [
       "<div>\n",
       "<style scoped>\n",
       "    .dataframe tbody tr th:only-of-type {\n",
       "        vertical-align: middle;\n",
       "    }\n",
       "\n",
       "    .dataframe tbody tr th {\n",
       "        vertical-align: top;\n",
       "    }\n",
       "\n",
       "    .dataframe thead th {\n",
       "        text-align: right;\n",
       "    }\n",
       "</style>\n",
       "<table border=\"1\" class=\"dataframe\">\n",
       "  <thead>\n",
       "    <tr style=\"text-align: right;\">\n",
       "      <th></th>\n",
       "      <th>n</th>\n",
       "      <th>accuracy</th>\n",
       "    </tr>\n",
       "  </thead>\n",
       "  <tbody>\n",
       "    <tr>\n",
       "      <th>0</th>\n",
       "      <td>0.0</td>\n",
       "      <td>0.821505</td>\n",
       "    </tr>\n",
       "  </tbody>\n",
       "</table>\n",
       "</div>"
      ],
      "text/plain": [
       "     n  accuracy\n",
       "0  0.0  0.821505"
      ]
     },
     "execution_count": 80,
     "metadata": {},
     "output_type": "execute_result"
    }
   ],
   "source": [
    "acc_prune_tree = pd.DataFrame(zip(alpha_values, acc2), columns = ['n','accuracy'])\n",
    "acc_prune_tree.loc[acc_prune_tree['accuracy'] == acc_prune_tree['accuracy'].max()]\n",
    "#max_depth = 19 produced the largest accuraccy"
   ]
  },
  {
   "cell_type": "code",
   "execution_count": 81,
   "id": "c24751b6",
   "metadata": {},
   "outputs": [
    {
     "name": "stdout",
     "output_type": "stream",
     "text": [
      "train accuracy =  0.9977553310886644\n",
      "5 CV accuracy =  0.7508442658966794\n"
     ]
    }
   ],
   "source": [
    "from sklearn.tree import DecisionTreeClassifier, plot_tree\n",
    "\n",
    "x = df_final2.loc[:, df_final2.columns != 'Survived']\n",
    "y = df_final2['Survived']\n",
    "\n",
    "model6 = DecisionTreeClassifier(ccp_alpha = 0)\n",
    "#plot_tree(model6, filled=False)\n",
    "#plt.show()\n",
    "model6.fit(x,y)\n",
    "\n",
    "y_hat = model6.predict(x)\n",
    "\n",
    "\n",
    "from sklearn.metrics import accuracy_score\n",
    "model6_train_accuracy = accuracy_score(y, y_hat)\n",
    "#score = model.score(x, y)\n",
    "\n",
    "model6_cv_accuracy = cross_validation(df_final2,DecisionTreeClassifier(ccp_alpha = 0))\n",
    "\n",
    "print('train accuracy = ', model6_train_accuracy)\n",
    "print('5 CV accuracy = ', model6_cv_accuracy)\n"
   ]
  },
  {
   "cell_type": "code",
   "execution_count": 82,
   "id": "fb5c421e",
   "metadata": {},
   "outputs": [
    {
     "name": "stdout",
     "output_type": "stream",
     "text": [
      "Confusion matrix\n",
      "\n",
      " [[549   0]\n",
      " [  2 340]]\n",
      "\n",
      "True Positives(TP) =  549\n",
      "\n",
      "True Negatives(TN) =  340\n",
      "\n",
      "False Positives(FP) =  0\n",
      "\n",
      "False Negatives(FN) =  2\n"
     ]
    }
   ],
   "source": [
    "cm = conf_mat(y, y_hat)\n",
    "print('Confusion matrix\\n\\n', cm)\n",
    "print('\\nTrue Positives(TP) = ', cm[0,0])\n",
    "print('\\nTrue Negatives(TN) = ', cm[1,1])\n",
    "print('\\nFalse Positives(FP) = ', cm[0,1])\n",
    "print('\\nFalse Negatives(FN) = ', cm[1,0])"
   ]
  },
  {
   "cell_type": "code",
   "execution_count": 83,
   "id": "7b0552b1",
   "metadata": {},
   "outputs": [
    {
     "name": "stdout",
     "output_type": "stream",
     "text": [
      "              precision    recall  f1-score   support\n",
      "\n",
      "           0       1.00      1.00      1.00       549\n",
      "           1       1.00      0.99      1.00       342\n",
      "\n",
      "    accuracy                           1.00       891\n",
      "   macro avg       1.00      1.00      1.00       891\n",
      "weighted avg       1.00      1.00      1.00       891\n",
      "\n"
     ]
    }
   ],
   "source": [
    "from sklearn.metrics import classification_report\n",
    "print(classification_report(y, y_hat))"
   ]
  },
  {
   "cell_type": "code",
   "execution_count": 84,
   "id": "fef66ba0",
   "metadata": {},
   "outputs": [
    {
     "name": "stdout",
     "output_type": "stream",
     "text": [
      "ROC AUC : 0.9971\n"
     ]
    }
   ],
   "source": [
    "from sklearn.metrics import roc_auc_score\n",
    "ROC_AUC = roc_auc_score(y, y_hat)\n",
    "print('ROC AUC : {:.4f}'.format(ROC_AUC))"
   ]
  },
  {
   "cell_type": "code",
   "execution_count": 85,
   "id": "4d95478e",
   "metadata": {},
   "outputs": [
    {
     "name": "stdout",
     "output_type": "stream",
     "text": [
      "Cross-validation scores:0.7428390311050627\n"
     ]
    }
   ],
   "source": [
    "from sklearn.model_selection import cross_val_score\n",
    "scores = cross_val_score(model6, x, y, cv = 5, scoring='roc_auc')\n",
    "scores = (1/5)*np.sum(scores)\n",
    "print('Cross-validation scores:{}'.format(scores))"
   ]
  },
  {
   "cell_type": "markdown",
   "id": "452da882",
   "metadata": {},
   "source": [
    "### Random Forest"
   ]
  },
  {
   "cell_type": "code",
   "execution_count": 86,
   "id": "d39e032d",
   "metadata": {},
   "outputs": [
    {
     "name": "stdout",
     "output_type": "stream",
     "text": [
      "train accuracy =  0.9977553310886644\n",
      "5 CV accuracy =  0.8114179900822297\n"
     ]
    }
   ],
   "source": [
    "# random forest\n",
    "from sklearn.ensemble import RandomForestClassifier\n",
    "\n",
    "x = df_final2.loc[:, df_final2.columns != 'Survived']\n",
    "y = df_final2['Survived']\n",
    "\n",
    "#m = sqrt(p)+1 features\n",
    "nfeatures = df_final2.shape[1] - 1\n",
    "model7 = RandomForestClassifier(max_features = int(np.sqrt(nfeatures))+1, random_state = 1) #random_state ensure random bagging\n",
    "model7.fit(x,y)\n",
    "\n",
    "y_hat = model7.predict(x)\n",
    "\n",
    "from sklearn.metrics import accuracy_score\n",
    "model7_train_accuracy = accuracy_score(y, y_hat)\n",
    "#score = model.score(x, y)\n",
    "\n",
    "model7_cv_accuracy = cross_validation(df_final2,RandomForestClassifier(max_features = int(np.sqrt(nfeatures))+1, random_state = 1))\n",
    "\n",
    "print('train accuracy = ', model7_train_accuracy)\n",
    "print('5 CV accuracy = ', model7_cv_accuracy)"
   ]
  },
  {
   "cell_type": "code",
   "execution_count": 87,
   "id": "c52c3dbb",
   "metadata": {},
   "outputs": [
    {
     "name": "stdout",
     "output_type": "stream",
     "text": [
      "Confusion matrix\n",
      "\n",
      " [[549   0]\n",
      " [  2 340]]\n",
      "\n",
      "True Positives(TP) =  549\n",
      "\n",
      "True Negatives(TN) =  340\n",
      "\n",
      "False Positives(FP) =  0\n",
      "\n",
      "False Negatives(FN) =  2\n"
     ]
    }
   ],
   "source": [
    "cm = conf_mat(y, y_hat)\n",
    "print('Confusion matrix\\n\\n', cm)\n",
    "print('\\nTrue Positives(TP) = ', cm[0,0])\n",
    "print('\\nTrue Negatives(TN) = ', cm[1,1])\n",
    "print('\\nFalse Positives(FP) = ', cm[0,1])\n",
    "print('\\nFalse Negatives(FN) = ', cm[1,0])"
   ]
  },
  {
   "cell_type": "code",
   "execution_count": 88,
   "id": "4f32d0ce",
   "metadata": {},
   "outputs": [
    {
     "name": "stdout",
     "output_type": "stream",
     "text": [
      "              precision    recall  f1-score   support\n",
      "\n",
      "           0       1.00      1.00      1.00       549\n",
      "           1       1.00      0.99      1.00       342\n",
      "\n",
      "    accuracy                           1.00       891\n",
      "   macro avg       1.00      1.00      1.00       891\n",
      "weighted avg       1.00      1.00      1.00       891\n",
      "\n"
     ]
    }
   ],
   "source": [
    "from sklearn.metrics import classification_report\n",
    "print(classification_report(y, y_hat))"
   ]
  },
  {
   "cell_type": "code",
   "execution_count": 89,
   "id": "7b2ee33a",
   "metadata": {},
   "outputs": [
    {
     "name": "stdout",
     "output_type": "stream",
     "text": [
      "ROC AUC : 0.9971\n"
     ]
    }
   ],
   "source": [
    "from sklearn.metrics import roc_auc_score\n",
    "ROC_AUC = roc_auc_score(y, y_hat)\n",
    "print('ROC AUC : {:.4f}'.format(ROC_AUC))"
   ]
  },
  {
   "cell_type": "code",
   "execution_count": 90,
   "id": "15cb9203",
   "metadata": {},
   "outputs": [
    {
     "name": "stdout",
     "output_type": "stream",
     "text": [
      "Cross-validation scores:0.8596343784640084\n"
     ]
    }
   ],
   "source": [
    "from sklearn.model_selection import cross_val_score\n",
    "scores = cross_val_score(model7, x, y, cv = 5, scoring='roc_auc')\n",
    "scores = (1/5)*np.sum(scores)\n",
    "print('Cross-validation scores:{}'.format(scores))"
   ]
  },
  {
   "cell_type": "markdown",
   "id": "635b9147",
   "metadata": {},
   "source": [
    "### Bagging"
   ]
  },
  {
   "cell_type": "code",
   "execution_count": 91,
   "id": "ccd5c888",
   "metadata": {},
   "outputs": [
    {
     "name": "stdout",
     "output_type": "stream",
     "text": [
      "train accuracy =  0.9977553310886644\n",
      "5 CV accuracy =  0.8091456907915385\n"
     ]
    }
   ],
   "source": [
    "# Bagging\n",
    "from sklearn.ensemble import RandomForestClassifier\n",
    "\n",
    "x = df_final2.loc[:, df_final2.columns != 'Survived']\n",
    "y = df_final2['Survived']\n",
    "\n",
    "#m = p features\n",
    "nfeatures = df_final2.shape[1] - 1\n",
    "model8 = RandomForestClassifier(max_features = nfeatures, random_state = 1) #random_state ensure random bagging\n",
    "model8.fit(x,y)\n",
    "\n",
    "y_hat = model8.predict(x)\n",
    "\n",
    "from sklearn.metrics import accuracy_score\n",
    "model8_train_accuracy = accuracy_score(y, y_hat)\n",
    "#score = model.score(x, y)\n",
    "\n",
    "model8_cv_accuracy = cross_validation(df_final2,RandomForestClassifier(max_features = nfeatures, random_state = 1))\n",
    "\n",
    "print('train accuracy = ', model8_train_accuracy)\n",
    "print('5 CV accuracy = ', model8_cv_accuracy)"
   ]
  },
  {
   "cell_type": "code",
   "execution_count": 92,
   "id": "f63bdcbf",
   "metadata": {},
   "outputs": [
    {
     "name": "stdout",
     "output_type": "stream",
     "text": [
      "Confusion matrix\n",
      "\n",
      " [[547   2]\n",
      " [  0 342]]\n",
      "\n",
      "True Positives(TP) =  547\n",
      "\n",
      "True Negatives(TN) =  342\n",
      "\n",
      "False Positives(FP) =  2\n",
      "\n",
      "False Negatives(FN) =  0\n"
     ]
    }
   ],
   "source": [
    "cm = conf_mat(y, y_hat)\n",
    "print('Confusion matrix\\n\\n', cm)\n",
    "print('\\nTrue Positives(TP) = ', cm[0,0])\n",
    "print('\\nTrue Negatives(TN) = ', cm[1,1])\n",
    "print('\\nFalse Positives(FP) = ', cm[0,1])\n",
    "print('\\nFalse Negatives(FN) = ', cm[1,0])"
   ]
  },
  {
   "cell_type": "code",
   "execution_count": 93,
   "id": "27315948",
   "metadata": {},
   "outputs": [
    {
     "name": "stdout",
     "output_type": "stream",
     "text": [
      "              precision    recall  f1-score   support\n",
      "\n",
      "           0       1.00      1.00      1.00       549\n",
      "           1       0.99      1.00      1.00       342\n",
      "\n",
      "    accuracy                           1.00       891\n",
      "   macro avg       1.00      1.00      1.00       891\n",
      "weighted avg       1.00      1.00      1.00       891\n",
      "\n"
     ]
    }
   ],
   "source": [
    "from sklearn.metrics import classification_report\n",
    "print(classification_report(y, y_hat))"
   ]
  },
  {
   "cell_type": "code",
   "execution_count": 94,
   "id": "064efcb2",
   "metadata": {},
   "outputs": [
    {
     "name": "stdout",
     "output_type": "stream",
     "text": [
      "ROC AUC : 0.9982\n"
     ]
    }
   ],
   "source": [
    "from sklearn.metrics import roc_auc_score\n",
    "ROC_AUC = roc_auc_score(y, y_hat)\n",
    "print('ROC AUC : {:.4f}'.format(ROC_AUC))"
   ]
  },
  {
   "cell_type": "code",
   "execution_count": 95,
   "id": "24002319",
   "metadata": {},
   "outputs": [
    {
     "name": "stdout",
     "output_type": "stream",
     "text": [
      "Cross-validation scores:0.8611448372364866\n"
     ]
    }
   ],
   "source": [
    "from sklearn.model_selection import cross_val_score\n",
    "scores = cross_val_score(model8, x, y, cv = 5, scoring='roc_auc')\n",
    "scores = (1/5)*np.sum(scores)\n",
    "print('Cross-validation scores:{}'.format(scores))"
   ]
  },
  {
   "cell_type": "markdown",
   "id": "cb679b23",
   "metadata": {},
   "source": [
    "### Boosting"
   ]
  },
  {
   "cell_type": "code",
   "execution_count": 96,
   "id": "d39a187a",
   "metadata": {},
   "outputs": [
    {
     "name": "stdout",
     "output_type": "stream",
     "text": [
      "train accuracy =  0.9977553310886644\n",
      "5 CV accuracy =  0.80585022911305\n"
     ]
    }
   ],
   "source": [
    "from sklearn.ensemble import RandomForestClassifier, GradientBoostingClassifier\n",
    "\n",
    "x = df_final2.loc[:, df_final2.columns != 'Survived']\n",
    "y = df_final2['Survived']\n",
    "\n",
    "NTREES = 5000\n",
    "INTERACTION_DEPTH = 4\n",
    "SHRINKAGE_PARAM = 0.2 \n",
    "model9 = GradientBoostingClassifier(\\\n",
    "                        n_estimators = NTREES,\\\n",
    "                        learning_rate = SHRINKAGE_PARAM,\\\n",
    "                        max_depth = INTERACTION_DEPTH,\\\n",
    "                        random_state = 1)\n",
    "\n",
    "model9.fit(x, y)\n",
    "\n",
    "y_hat = model9.predict(x)\n",
    "\n",
    "from sklearn.metrics import accuracy_score\n",
    "model9_train_accuracy = accuracy_score(y, y_hat)\n",
    "#score = model.score(x, y)\n",
    "\n",
    "model9_cv_accuracy = cross_validation(df_final2,GradientBoostingClassifier(\\\n",
    "                        n_estimators = NTREES,\\\n",
    "                        learning_rate = SHRINKAGE_PARAM,\\\n",
    "                        max_depth = INTERACTION_DEPTH,\\\n",
    "                        random_state = 1))\n",
    "\n",
    "print('train accuracy = ', model9_train_accuracy)\n",
    "print('5 CV accuracy = ', model9_cv_accuracy)"
   ]
  },
  {
   "cell_type": "code",
   "execution_count": 97,
   "id": "6e26e887",
   "metadata": {},
   "outputs": [
    {
     "name": "stdout",
     "output_type": "stream",
     "text": [
      "Confusion matrix\n",
      "\n",
      " [[549   0]\n",
      " [  2 340]]\n",
      "\n",
      "True Positives(TP) =  549\n",
      "\n",
      "True Negatives(TN) =  340\n",
      "\n",
      "False Positives(FP) =  0\n",
      "\n",
      "False Negatives(FN) =  2\n"
     ]
    }
   ],
   "source": [
    "cm = conf_mat(y, y_hat)\n",
    "print('Confusion matrix\\n\\n', cm)\n",
    "print('\\nTrue Positives(TP) = ', cm[0,0])\n",
    "print('\\nTrue Negatives(TN) = ', cm[1,1])\n",
    "print('\\nFalse Positives(FP) = ', cm[0,1])\n",
    "print('\\nFalse Negatives(FN) = ', cm[1,0])"
   ]
  },
  {
   "cell_type": "code",
   "execution_count": 98,
   "id": "8b608ca6",
   "metadata": {},
   "outputs": [
    {
     "name": "stdout",
     "output_type": "stream",
     "text": [
      "              precision    recall  f1-score   support\n",
      "\n",
      "           0       1.00      1.00      1.00       549\n",
      "           1       1.00      0.99      1.00       342\n",
      "\n",
      "    accuracy                           1.00       891\n",
      "   macro avg       1.00      1.00      1.00       891\n",
      "weighted avg       1.00      1.00      1.00       891\n",
      "\n"
     ]
    }
   ],
   "source": [
    "from sklearn.metrics import classification_report\n",
    "print(classification_report(y, y_hat))"
   ]
  },
  {
   "cell_type": "code",
   "execution_count": 99,
   "id": "03600d9d",
   "metadata": {},
   "outputs": [
    {
     "name": "stdout",
     "output_type": "stream",
     "text": [
      "ROC AUC : 0.9971\n"
     ]
    }
   ],
   "source": [
    "from sklearn.metrics import roc_auc_score\n",
    "ROC_AUC = roc_auc_score(y, y_hat)\n",
    "print('ROC AUC : {:.4f}'.format(ROC_AUC))"
   ]
  },
  {
   "cell_type": "code",
   "execution_count": 100,
   "id": "17eeb73b",
   "metadata": {},
   "outputs": [
    {
     "name": "stdout",
     "output_type": "stream",
     "text": [
      "Cross-validation scores:0.8559997568306068\n"
     ]
    }
   ],
   "source": [
    "from sklearn.model_selection import cross_val_score\n",
    "scores = cross_val_score(model9, x, y, cv = 5, scoring='roc_auc')\n",
    "scores = (1/5)*np.sum(scores)\n",
    "print('Cross-validation scores:{}'.format(scores))"
   ]
  },
  {
   "cell_type": "markdown",
   "id": "7fc10e26",
   "metadata": {},
   "source": [
    "### Bayes Method"
   ]
  },
  {
   "cell_type": "code",
   "execution_count": 101,
   "id": "9293c7fb",
   "metadata": {},
   "outputs": [
    {
     "data": {
      "text/html": [
       "<div>\n",
       "<style scoped>\n",
       "    .dataframe tbody tr th:only-of-type {\n",
       "        vertical-align: middle;\n",
       "    }\n",
       "\n",
       "    .dataframe tbody tr th {\n",
       "        vertical-align: top;\n",
       "    }\n",
       "\n",
       "    .dataframe thead th {\n",
       "        text-align: right;\n",
       "    }\n",
       "</style>\n",
       "<table border=\"1\" class=\"dataframe\">\n",
       "  <thead>\n",
       "    <tr style=\"text-align: right;\">\n",
       "      <th></th>\n",
       "      <th>Pclass</th>\n",
       "      <th>Age</th>\n",
       "      <th>SibSp</th>\n",
       "      <th>Parch</th>\n",
       "      <th>Fare</th>\n",
       "      <th>Sex_female</th>\n",
       "      <th>Sex_male</th>\n",
       "      <th>Sex_nan</th>\n",
       "      <th>Ticket_110152</th>\n",
       "      <th>Ticket_110413</th>\n",
       "      <th>...</th>\n",
       "      <th>Ticket_W./C. 6609</th>\n",
       "      <th>Ticket_W.E.P. 5734</th>\n",
       "      <th>Ticket_W/C 14208</th>\n",
       "      <th>Ticket_WE/P 5735</th>\n",
       "      <th>Ticket_nan</th>\n",
       "      <th>Embarked_C</th>\n",
       "      <th>Embarked_Q</th>\n",
       "      <th>Embarked_S</th>\n",
       "      <th>Embarked_nan</th>\n",
       "      <th>Survived</th>\n",
       "    </tr>\n",
       "  </thead>\n",
       "  <tbody>\n",
       "    <tr>\n",
       "      <th>0</th>\n",
       "      <td>-0.579151</td>\n",
       "      <td>-0.160673</td>\n",
       "      <td>-0.034249</td>\n",
       "      <td>0.0</td>\n",
       "      <td>0.006766</td>\n",
       "      <td>0</td>\n",
       "      <td>1</td>\n",
       "      <td>0</td>\n",
       "      <td>0</td>\n",
       "      <td>0</td>\n",
       "      <td>...</td>\n",
       "      <td>0</td>\n",
       "      <td>0</td>\n",
       "      <td>0</td>\n",
       "      <td>0</td>\n",
       "      <td>0</td>\n",
       "      <td>0</td>\n",
       "      <td>0</td>\n",
       "      <td>1</td>\n",
       "      <td>0</td>\n",
       "      <td>0</td>\n",
       "    </tr>\n",
       "    <tr>\n",
       "      <th>1</th>\n",
       "      <td>-0.193050</td>\n",
       "      <td>-0.277527</td>\n",
       "      <td>-0.034249</td>\n",
       "      <td>0.0</td>\n",
       "      <td>0.028929</td>\n",
       "      <td>1</td>\n",
       "      <td>0</td>\n",
       "      <td>0</td>\n",
       "      <td>0</td>\n",
       "      <td>0</td>\n",
       "      <td>...</td>\n",
       "      <td>0</td>\n",
       "      <td>0</td>\n",
       "      <td>0</td>\n",
       "      <td>0</td>\n",
       "      <td>0</td>\n",
       "      <td>1</td>\n",
       "      <td>0</td>\n",
       "      <td>0</td>\n",
       "      <td>0</td>\n",
       "      <td>1</td>\n",
       "    </tr>\n",
       "    <tr>\n",
       "      <th>2</th>\n",
       "      <td>-0.579151</td>\n",
       "      <td>-0.189887</td>\n",
       "      <td>-0.000000</td>\n",
       "      <td>0.0</td>\n",
       "      <td>0.007396</td>\n",
       "      <td>1</td>\n",
       "      <td>0</td>\n",
       "      <td>0</td>\n",
       "      <td>0</td>\n",
       "      <td>0</td>\n",
       "      <td>...</td>\n",
       "      <td>0</td>\n",
       "      <td>0</td>\n",
       "      <td>0</td>\n",
       "      <td>0</td>\n",
       "      <td>0</td>\n",
       "      <td>0</td>\n",
       "      <td>0</td>\n",
       "      <td>1</td>\n",
       "      <td>0</td>\n",
       "      <td>1</td>\n",
       "    </tr>\n",
       "    <tr>\n",
       "      <th>3</th>\n",
       "      <td>-0.193050</td>\n",
       "      <td>-0.255617</td>\n",
       "      <td>-0.034249</td>\n",
       "      <td>0.0</td>\n",
       "      <td>0.049553</td>\n",
       "      <td>1</td>\n",
       "      <td>0</td>\n",
       "      <td>0</td>\n",
       "      <td>0</td>\n",
       "      <td>0</td>\n",
       "      <td>...</td>\n",
       "      <td>0</td>\n",
       "      <td>0</td>\n",
       "      <td>0</td>\n",
       "      <td>0</td>\n",
       "      <td>0</td>\n",
       "      <td>0</td>\n",
       "      <td>0</td>\n",
       "      <td>1</td>\n",
       "      <td>0</td>\n",
       "      <td>1</td>\n",
       "    </tr>\n",
       "    <tr>\n",
       "      <th>4</th>\n",
       "      <td>-0.579151</td>\n",
       "      <td>-0.255617</td>\n",
       "      <td>-0.000000</td>\n",
       "      <td>0.0</td>\n",
       "      <td>0.007512</td>\n",
       "      <td>0</td>\n",
       "      <td>1</td>\n",
       "      <td>0</td>\n",
       "      <td>0</td>\n",
       "      <td>0</td>\n",
       "      <td>...</td>\n",
       "      <td>0</td>\n",
       "      <td>0</td>\n",
       "      <td>0</td>\n",
       "      <td>0</td>\n",
       "      <td>0</td>\n",
       "      <td>0</td>\n",
       "      <td>0</td>\n",
       "      <td>1</td>\n",
       "      <td>0</td>\n",
       "      <td>0</td>\n",
       "    </tr>\n",
       "    <tr>\n",
       "      <th>...</th>\n",
       "      <td>...</td>\n",
       "      <td>...</td>\n",
       "      <td>...</td>\n",
       "      <td>...</td>\n",
       "      <td>...</td>\n",
       "      <td>...</td>\n",
       "      <td>...</td>\n",
       "      <td>...</td>\n",
       "      <td>...</td>\n",
       "      <td>...</td>\n",
       "      <td>...</td>\n",
       "      <td>...</td>\n",
       "      <td>...</td>\n",
       "      <td>...</td>\n",
       "      <td>...</td>\n",
       "      <td>...</td>\n",
       "      <td>...</td>\n",
       "      <td>...</td>\n",
       "      <td>...</td>\n",
       "      <td>...</td>\n",
       "      <td>...</td>\n",
       "    </tr>\n",
       "    <tr>\n",
       "      <th>886</th>\n",
       "      <td>-0.386101</td>\n",
       "      <td>-0.197190</td>\n",
       "      <td>-0.000000</td>\n",
       "      <td>0.0</td>\n",
       "      <td>0.012132</td>\n",
       "      <td>0</td>\n",
       "      <td>1</td>\n",
       "      <td>0</td>\n",
       "      <td>0</td>\n",
       "      <td>0</td>\n",
       "      <td>...</td>\n",
       "      <td>0</td>\n",
       "      <td>0</td>\n",
       "      <td>0</td>\n",
       "      <td>0</td>\n",
       "      <td>0</td>\n",
       "      <td>0</td>\n",
       "      <td>0</td>\n",
       "      <td>1</td>\n",
       "      <td>0</td>\n",
       "      <td>0</td>\n",
       "    </tr>\n",
       "    <tr>\n",
       "      <th>887</th>\n",
       "      <td>-0.193050</td>\n",
       "      <td>-0.138763</td>\n",
       "      <td>-0.000000</td>\n",
       "      <td>0.0</td>\n",
       "      <td>0.027996</td>\n",
       "      <td>1</td>\n",
       "      <td>0</td>\n",
       "      <td>0</td>\n",
       "      <td>0</td>\n",
       "      <td>0</td>\n",
       "      <td>...</td>\n",
       "      <td>0</td>\n",
       "      <td>0</td>\n",
       "      <td>0</td>\n",
       "      <td>0</td>\n",
       "      <td>0</td>\n",
       "      <td>0</td>\n",
       "      <td>0</td>\n",
       "      <td>1</td>\n",
       "      <td>0</td>\n",
       "      <td>1</td>\n",
       "    </tr>\n",
       "    <tr>\n",
       "      <th>888</th>\n",
       "      <td>-0.579151</td>\n",
       "      <td>-0.204493</td>\n",
       "      <td>-0.034249</td>\n",
       "      <td>0.0</td>\n",
       "      <td>0.021884</td>\n",
       "      <td>1</td>\n",
       "      <td>0</td>\n",
       "      <td>0</td>\n",
       "      <td>0</td>\n",
       "      <td>0</td>\n",
       "      <td>...</td>\n",
       "      <td>0</td>\n",
       "      <td>0</td>\n",
       "      <td>0</td>\n",
       "      <td>0</td>\n",
       "      <td>0</td>\n",
       "      <td>0</td>\n",
       "      <td>0</td>\n",
       "      <td>1</td>\n",
       "      <td>0</td>\n",
       "      <td>0</td>\n",
       "    </tr>\n",
       "    <tr>\n",
       "      <th>889</th>\n",
       "      <td>-0.193050</td>\n",
       "      <td>-0.189887</td>\n",
       "      <td>-0.000000</td>\n",
       "      <td>0.0</td>\n",
       "      <td>0.027996</td>\n",
       "      <td>0</td>\n",
       "      <td>1</td>\n",
       "      <td>0</td>\n",
       "      <td>0</td>\n",
       "      <td>0</td>\n",
       "      <td>...</td>\n",
       "      <td>0</td>\n",
       "      <td>0</td>\n",
       "      <td>0</td>\n",
       "      <td>0</td>\n",
       "      <td>0</td>\n",
       "      <td>1</td>\n",
       "      <td>0</td>\n",
       "      <td>0</td>\n",
       "      <td>0</td>\n",
       "      <td>1</td>\n",
       "    </tr>\n",
       "    <tr>\n",
       "      <th>890</th>\n",
       "      <td>-0.579151</td>\n",
       "      <td>-0.233707</td>\n",
       "      <td>-0.000000</td>\n",
       "      <td>0.0</td>\n",
       "      <td>0.007232</td>\n",
       "      <td>0</td>\n",
       "      <td>1</td>\n",
       "      <td>0</td>\n",
       "      <td>0</td>\n",
       "      <td>0</td>\n",
       "      <td>...</td>\n",
       "      <td>0</td>\n",
       "      <td>0</td>\n",
       "      <td>0</td>\n",
       "      <td>0</td>\n",
       "      <td>0</td>\n",
       "      <td>0</td>\n",
       "      <td>1</td>\n",
       "      <td>0</td>\n",
       "      <td>0</td>\n",
       "      <td>0</td>\n",
       "    </tr>\n",
       "  </tbody>\n",
       "</table>\n",
       "<p>891 rows × 695 columns</p>\n",
       "</div>"
      ],
      "text/plain": [
       "       Pclass       Age     SibSp  Parch      Fare  Sex_female  Sex_male  \\\n",
       "0   -0.579151 -0.160673 -0.034249    0.0  0.006766           0         1   \n",
       "1   -0.193050 -0.277527 -0.034249    0.0  0.028929           1         0   \n",
       "2   -0.579151 -0.189887 -0.000000    0.0  0.007396           1         0   \n",
       "3   -0.193050 -0.255617 -0.034249    0.0  0.049553           1         0   \n",
       "4   -0.579151 -0.255617 -0.000000    0.0  0.007512           0         1   \n",
       "..        ...       ...       ...    ...       ...         ...       ...   \n",
       "886 -0.386101 -0.197190 -0.000000    0.0  0.012132           0         1   \n",
       "887 -0.193050 -0.138763 -0.000000    0.0  0.027996           1         0   \n",
       "888 -0.579151 -0.204493 -0.034249    0.0  0.021884           1         0   \n",
       "889 -0.193050 -0.189887 -0.000000    0.0  0.027996           0         1   \n",
       "890 -0.579151 -0.233707 -0.000000    0.0  0.007232           0         1   \n",
       "\n",
       "     Sex_nan  Ticket_110152  Ticket_110413  ...  Ticket_W./C. 6609  \\\n",
       "0          0              0              0  ...                  0   \n",
       "1          0              0              0  ...                  0   \n",
       "2          0              0              0  ...                  0   \n",
       "3          0              0              0  ...                  0   \n",
       "4          0              0              0  ...                  0   \n",
       "..       ...            ...            ...  ...                ...   \n",
       "886        0              0              0  ...                  0   \n",
       "887        0              0              0  ...                  0   \n",
       "888        0              0              0  ...                  0   \n",
       "889        0              0              0  ...                  0   \n",
       "890        0              0              0  ...                  0   \n",
       "\n",
       "     Ticket_W.E.P. 5734  Ticket_W/C 14208  Ticket_WE/P 5735  Ticket_nan  \\\n",
       "0                     0                 0                 0           0   \n",
       "1                     0                 0                 0           0   \n",
       "2                     0                 0                 0           0   \n",
       "3                     0                 0                 0           0   \n",
       "4                     0                 0                 0           0   \n",
       "..                  ...               ...               ...         ...   \n",
       "886                   0                 0                 0           0   \n",
       "887                   0                 0                 0           0   \n",
       "888                   0                 0                 0           0   \n",
       "889                   0                 0                 0           0   \n",
       "890                   0                 0                 0           0   \n",
       "\n",
       "     Embarked_C  Embarked_Q  Embarked_S  Embarked_nan  Survived  \n",
       "0             0           0           1             0         0  \n",
       "1             1           0           0             0         1  \n",
       "2             0           0           1             0         1  \n",
       "3             0           0           1             0         1  \n",
       "4             0           0           1             0         0  \n",
       "..          ...         ...         ...           ...       ...  \n",
       "886           0           0           1             0         0  \n",
       "887           0           0           1             0         1  \n",
       "888           0           0           1             0         0  \n",
       "889           1           0           0             0         1  \n",
       "890           0           1           0             0         0  \n",
       "\n",
       "[891 rows x 695 columns]"
      ]
     },
     "execution_count": 101,
     "metadata": {},
     "output_type": "execute_result"
    }
   ],
   "source": [
    "#df_final = pd.concat([df_cont2, df_cat2, df_response], axis = 1)\n",
    "df_final"
   ]
  },
  {
   "cell_type": "code",
   "execution_count": 102,
   "id": "e98e2620",
   "metadata": {},
   "outputs": [
    {
     "name": "stdout",
     "output_type": "stream",
     "text": [
      "train accuracy =  0.755331088664422\n"
     ]
    }
   ],
   "source": [
    "#df_response.value_counts() # need this for priors\n",
    "\n",
    "#Gaussian\n",
    "from sklearn.naive_bayes import GaussianNB\n",
    "\n",
    "x1 = df_cont2\n",
    "y = df_response\n",
    "\n",
    "model10 = GaussianNB()\n",
    "model10.fit(x1,y)\n",
    "\n",
    "y_hat1 = model10.predict(x1)\n",
    "\n",
    "\n",
    "#Multinomial (for discrete values)\n",
    "from sklearn.naive_bayes import MultinomialNB\n",
    "\n",
    "x2 = df_cat2\n",
    "y = df_response\n",
    "\n",
    "model11 = MultinomialNB()\n",
    "model11.fit(x2,y)\n",
    "\n",
    "y_hat2 = model11.predict(x2)\n",
    "\n",
    "pi_0 = 549/891\n",
    "pi_1 = 342/891\n",
    "\n",
    "y_hat = np.floor(y_hat1*y_hat2 * (pi_0/pi_1))\n",
    "\n",
    "from sklearn.metrics import accuracy_score\n",
    "model10_train_accuracy = accuracy_score(y, y_hat)\n",
    "\n",
    "print('train accuracy = ', model10_train_accuracy)"
   ]
  },
  {
   "cell_type": "code",
   "execution_count": 103,
   "id": "27830ed0",
   "metadata": {},
   "outputs": [
    {
     "name": "stdout",
     "output_type": "stream",
     "text": [
      "Confusion matrix\n",
      "\n",
      " [[546   3]\n",
      " [215 127]]\n",
      "\n",
      "True Positives(TP) =  546\n",
      "\n",
      "True Negatives(TN) =  127\n",
      "\n",
      "False Positives(FP) =  3\n",
      "\n",
      "False Negatives(FN) =  215\n"
     ]
    }
   ],
   "source": [
    "cm = conf_mat(y, y_hat)\n",
    "print('Confusion matrix\\n\\n', cm)\n",
    "print('\\nTrue Positives(TP) = ', cm[0,0])\n",
    "print('\\nTrue Negatives(TN) = ', cm[1,1])\n",
    "print('\\nFalse Positives(FP) = ', cm[0,1])\n",
    "print('\\nFalse Negatives(FN) = ', cm[1,0])"
   ]
  },
  {
   "cell_type": "code",
   "execution_count": 104,
   "id": "94b37063",
   "metadata": {},
   "outputs": [
    {
     "name": "stdout",
     "output_type": "stream",
     "text": [
      "              precision    recall  f1-score   support\n",
      "\n",
      "           0       0.72      0.99      0.83       549\n",
      "           1       0.98      0.37      0.54       342\n",
      "\n",
      "    accuracy                           0.76       891\n",
      "   macro avg       0.85      0.68      0.69       891\n",
      "weighted avg       0.82      0.76      0.72       891\n",
      "\n"
     ]
    }
   ],
   "source": [
    "from sklearn.metrics import classification_report\n",
    "print(classification_report(y, y_hat))"
   ]
  },
  {
   "cell_type": "code",
   "execution_count": 105,
   "id": "b6d30577",
   "metadata": {},
   "outputs": [
    {
     "name": "stdout",
     "output_type": "stream",
     "text": [
      "ROC AUC : 0.6829\n"
     ]
    }
   ],
   "source": [
    "from sklearn.metrics import roc_auc_score\n",
    "ROC_AUC = roc_auc_score(y, y_hat)\n",
    "print('ROC AUC : {:.4f}'.format(ROC_AUC))"
   ]
  },
  {
   "cell_type": "code",
   "execution_count": 106,
   "id": "59caf22a",
   "metadata": {},
   "outputs": [
    {
     "name": "stdout",
     "output_type": "stream",
     "text": [
      "Cross-validation scores:0.700811768047684\n"
     ]
    }
   ],
   "source": [
    "from sklearn.model_selection import cross_val_score\n",
    "scores = cross_val_score(model10, x, y, cv = 5, scoring='roc_auc')\n",
    "scores = (1/5)*np.sum(scores)\n",
    "print('Cross-validation scores:{}'.format(scores))"
   ]
  }
 ],
 "metadata": {
  "kernelspec": {
   "display_name": "env_ds_3_10",
   "language": "python",
   "name": "env_ds_3_10"
  },
  "language_info": {
   "codemirror_mode": {
    "name": "ipython",
    "version": 3
   },
   "file_extension": ".py",
   "mimetype": "text/x-python",
   "name": "python",
   "nbconvert_exporter": "python",
   "pygments_lexer": "ipython3",
   "version": "3.10.1"
  }
 },
 "nbformat": 4,
 "nbformat_minor": 5
}
